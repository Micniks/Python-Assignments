{
 "cells": [
  {
   "cell_type": "code",
   "execution_count": 1,
   "metadata": {},
   "outputs": [],
   "source": [
    "import pandas as pd\n",
    "import numpy as np\n",
    "\n",
    "data = np.array([['','Col1','Col2','col3'],\n",
    "                ['Row1',1,2,3],\n",
    "                ['Row2',4,5,6],\n",
    "                ['Row3',7,8,9]])"
   ]
  },
  {
   "cell_type": "code",
   "execution_count": 2,
   "metadata": {},
   "outputs": [
    {
     "name": "stdout",
     "output_type": "stream",
     "text": [
      "     Col1 Col2 col3\n",
      "Row1    1    2    3\n",
      "Row2    4    5    6\n",
      "Row3    7    8    9\n",
      "Index(['Row1', 'Row2', 'Row3'], dtype='object')\n",
      "Index(['Col1', 'Col2', 'col3'], dtype='object')\n"
     ]
    }
   ],
   "source": [
    "indexs = [value[0] for value in data[1:]]\n",
    "colums = data[0][1:]\n",
    "datas = [value[1:] for value in data[1:]]\n",
    "df = pd.DataFrame(data=datas, columns=colums, index=indexs)\n",
    "print(df)\n",
    "print(df.index)\n",
    "print(df.columns)"
   ]
  },
  {
   "cell_type": "code",
   "execution_count": 3,
   "metadata": {},
   "outputs": [
    {
     "name": "stdout",
     "output_type": "stream",
     "text": [
      "Row1    2\n",
      "Row2    5\n",
      "Row3    8\n",
      "Name: Col2, dtype: object\n"
     ]
    }
   ],
   "source": [
    "#2a\n",
    "print(df['Col2'])"
   ]
  },
  {
   "cell_type": "code",
   "execution_count": 4,
   "metadata": {},
   "outputs": [
    {
     "name": "stdout",
     "output_type": "stream",
     "text": [
      "Row1    3\n",
      "Row2    6\n",
      "Row3    9\n",
      "Name: col3, dtype: object\n"
     ]
    }
   ],
   "source": [
    "#2b\n",
    "print(df.iloc[:]['col3'])"
   ]
  },
  {
   "cell_type": "code",
   "execution_count": 5,
   "metadata": {},
   "outputs": [
    {
     "name": "stdout",
     "output_type": "stream",
     "text": [
      "Row3    8\n",
      "Name: Col2, dtype: object\n"
     ]
    }
   ],
   "source": [
    "#2c\n",
    "print(df.iloc[2:]['Col2'])"
   ]
  },
  {
   "cell_type": "code",
   "execution_count": 47,
   "metadata": {},
   "outputs": [
    {
     "name": "stdout",
     "output_type": "stream",
     "text": [
      "Country Name\n",
      "Aruba              872.746\n",
      "Afghanistan       9809.225\n",
      "Angola           34763.160\n",
      "Albania           5716.853\n",
      "Andorra            462.042\n",
      "                   ...    \n",
      "Kosovo                 NaN\n",
      "Yemen, Rep.      22698.730\n",
      "South Africa    489771.854\n",
      "Zambia            4503.076\n",
      "Zimbabwe         12020.426\n",
      "Name: 2014, Length: 264, dtype: float64\n"
     ]
    }
   ],
   "source": [
    "data = pd.read_csv('../../../data/API_EN.ATM.CO2E.KT_DS2_en_csv_v2_887574.csv', skiprows=4)\n",
    "countries = data['Country Name']\n",
    "data = data.set_index(countries)\n",
    "new_series = pd.Series(data[:]['2014'])\n",
    "print(new_series)"
   ]
  },
  {
   "cell_type": "code",
   "execution_count": 48,
   "metadata": {},
   "outputs": [
    {
     "name": "stdout",
     "output_type": "stream",
     "text": [
      "Country Name\n",
      "World                        3.613828e+07\n",
      "IDA & IBRD total             2.158385e+07\n",
      "Low & middle income          2.121377e+07\n",
      "Middle income                2.101174e+07\n",
      "IBRD only                    2.078336e+07\n",
      "Upper middle income          1.682714e+07\n",
      "Late-demographic dividend    1.508966e+07\n",
      "East Asia & Pacific          1.427211e+07\n",
      "High income                  1.293972e+07\n",
      "OECD members                 1.215111e+07\n",
      "Name: 2014, dtype: float64\n"
     ]
    }
   ],
   "source": [
    "sorted_top_ten = new_series.sort_values(ascending=False)[0:10]\n",
    "print(sorted_top_ten)"
   ]
  },
  {
   "cell_type": "code",
   "execution_count": 41,
   "metadata": {},
   "outputs": [
    {
     "name": "stdout",
     "output_type": "stream",
     "text": [
      "     Country Name Country Code      Indicator Name  Indicator Code       1960  \\\n",
      "0           Aruba          ABW  CO2 emissions (kt)  EN.ATM.CO2E.KT        NaN   \n",
      "1     Afghanistan          AFG  CO2 emissions (kt)  EN.ATM.CO2E.KT    414.371   \n",
      "2          Angola          AGO  CO2 emissions (kt)  EN.ATM.CO2E.KT    550.050   \n",
      "3         Albania          ALB  CO2 emissions (kt)  EN.ATM.CO2E.KT   2024.184   \n",
      "4         Andorra          AND  CO2 emissions (kt)  EN.ATM.CO2E.KT        NaN   \n",
      "..            ...          ...                 ...             ...        ...   \n",
      "259        Kosovo          XKX  CO2 emissions (kt)  EN.ATM.CO2E.KT        NaN   \n",
      "260   Yemen, Rep.          YEM  CO2 emissions (kt)  EN.ATM.CO2E.KT   3633.997   \n",
      "261  South Africa          ZAF  CO2 emissions (kt)  EN.ATM.CO2E.KT  97934.569   \n",
      "262        Zambia          ZMB  CO2 emissions (kt)  EN.ATM.CO2E.KT        NaN   \n",
      "263      Zimbabwe          ZWE  CO2 emissions (kt)  EN.ATM.CO2E.KT        NaN   \n",
      "\n",
      "           1961        1962        1963        1964        1965  ...  \\\n",
      "0           NaN         NaN         NaN         NaN         NaN  ...   \n",
      "1       491.378     689.396     707.731     839.743    1008.425  ...   \n",
      "2       454.708    1180.774    1151.438    1224.778    1188.108  ...   \n",
      "3      2280.874    2464.224    2082.856    2016.850    2174.531  ...   \n",
      "4           NaN         NaN         NaN         NaN         NaN  ...   \n",
      "..          ...         ...         ...         ...         ...  ...   \n",
      "259         NaN         NaN         NaN         NaN         NaN  ...   \n",
      "260    2665.909    3887.020    2918.932    3633.997    3931.024  ...   \n",
      "261  102213.958  105767.281  109826.650  119657.877  128260.659  ...   \n",
      "262         NaN         NaN         NaN    3278.298    3916.356  ...   \n",
      "263         NaN         NaN         NaN    4473.740    5214.474  ...   \n",
      "\n",
      "           2011        2012        2013        2014  2015  2016  2017  2018  \\\n",
      "0      2500.894    1349.456     861.745     872.746   NaN   NaN   NaN   NaN   \n",
      "1     12240.446   10755.311   10014.577    9809.225   NaN   NaN   NaN   NaN   \n",
      "2     30340.758   33399.036   32617.965   34763.160   NaN   NaN   NaN   NaN   \n",
      "3      5240.143    4910.113    5064.127    5716.853   NaN   NaN   NaN   NaN   \n",
      "4       491.378     487.711     476.710     462.042   NaN   NaN   NaN   NaN   \n",
      "..          ...         ...         ...         ...   ...   ...   ...   ...   \n",
      "259         NaN         NaN         NaN         NaN   NaN   NaN   NaN   NaN   \n",
      "260   19666.121   18668.697   25496.651   22698.730   NaN   NaN   NaN   NaN   \n",
      "261  470582.443  468770.945  466376.394  489771.854   NaN   NaN   NaN   NaN   \n",
      "262    2937.267    3667.000    3956.693    4503.076   NaN   NaN   NaN   NaN   \n",
      "263    9563.536    7792.375   11675.728   12020.426   NaN   NaN   NaN   NaN   \n",
      "\n",
      "     2019  Unnamed: 64  \n",
      "0     NaN          NaN  \n",
      "1     NaN          NaN  \n",
      "2     NaN          NaN  \n",
      "3     NaN          NaN  \n",
      "4     NaN          NaN  \n",
      "..    ...          ...  \n",
      "259   NaN          NaN  \n",
      "260   NaN          NaN  \n",
      "261   NaN          NaN  \n",
      "262   NaN          NaN  \n",
      "263   NaN          NaN  \n",
      "\n",
      "[264 rows x 65 columns]\n"
     ]
    }
   ],
   "source": [
    "print(data)"
   ]
  },
  {
   "cell_type": "code",
   "execution_count": null,
   "metadata": {},
   "outputs": [],
   "source": []
  }
 ],
 "metadata": {
  "kernelspec": {
   "display_name": "Python 3",
   "language": "python",
   "name": "python3"
  },
  "language_info": {
   "codemirror_mode": {
    "name": "ipython",
    "version": 3
   },
   "file_extension": ".py",
   "mimetype": "text/x-python",
   "name": "python",
   "nbconvert_exporter": "python",
   "pygments_lexer": "ipython3",
   "version": "3.7.6"
  }
 },
 "nbformat": 4,
 "nbformat_minor": 4
}
