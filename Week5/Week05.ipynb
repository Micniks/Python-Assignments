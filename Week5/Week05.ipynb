{
 "cells": [
  {
   "cell_type": "code",
   "execution_count": 1,
   "metadata": {},
   "outputs": [],
   "source": [
    "import pandas as pd"
   ]
  },
  {
   "cell_type": "markdown",
   "metadata": {},
   "source": [
    "## Ex1 Use data from Danmarks Statistik - Databanken\n",
    "1. Go to https://www.dst.dk/da/Statistik/brug-statistikken/muligheder-i-statistikbanken/api#testkonsol\n",
    "2. Open 'Konsol' and click 'Start Konsol'\n",
    "3. In the console at pt 1: choose 'Retrieve tables', pt 2: choose get request and json format and pt 3: execute:\n",
    "  1. check the result\n",
    "  2. in the code below this same get request is used to get information about all available data tables in 'databanken'. \n",
    "4. Change pt. 1 in the console to 'Retrieve data', pt 2: 'get request' and Table id: 'FOLK1A', format: csv, delimiter: semicolon and click: 'Variable and value codes' and choose some sub categories (Hint: hover over the codes to see their meaning). Finally execute and see what data you get.\n"
   ]
  },
  {
   "cell_type": "code",
   "execution_count": 2,
   "metadata": {},
   "outputs": [],
   "source": [
    "a_data = pd.read_csv('https://api.statbank.dk/v1/data/FOLK1A/CSV?delimiter=Semicolon&Tid=2008K1%2C2020K3&CIVILSTAND=F', sep=';')\n",
    "b_data = pd.read_csv('https://api.statbank.dk/v1/data/FOLK1A/CSV?delimiter=Semicolon&OMR%C3%85DE=*&CIVILSTAND=TOT%2CU&Tid=2020K3', sep=';')\n",
    "c_data = pd.read_csv('https://api.statbank.dk/v1/data/FOLK1A/CSV?delimiter=Semicolon&OMR%C3%85DE=101&CIVILSTAND=G&Tid=*', sep=';')\n",
    "d_data = pd.read_csv('https://api.statbank.dk/v1/data/FOLK1A/CSV?delimiter=Semicolon&CIVILSTAND=U%2CG&Tid=2020K3&ALDER=*', sep=';')\n",
    "#print(a_data)"
   ]
  },
  {
   "cell_type": "markdown",
   "metadata": {},
   "source": [
    "5. With data aggregation and data visualization answer the following questions:\n",
    "  1. What is the change in pct of divorced danes from 2008 to 2020?\n",
    "  2. Which of the 5 biggest cities has the highest percentage of 'Never Married' in 2020?\n",
    "  3. Show a bar chart of changes in marrital status in Copenhagen from 2008 till now\n",
    "  4. Show 2 plots in same figure: 'Married' and 'Never Married' for all ages in DK in 2020 (Hint: x axis is age from 0-125, y axis is how many people in the 2 categories). Add lengend to show names on graphs"
   ]
  },
  {
   "cell_type": "code",
   "execution_count": 3,
   "metadata": {},
   "outputs": [
    {
     "name": "stdout",
     "output_type": "stream",
     "text": [
      "The amount of divorced people has increased by 28.41% from 2008K1 to 2020K3\n"
     ]
    }
   ],
   "source": [
    "#A\n",
    "divorced_before = a_data.iloc[0,2]\n",
    "divorced_before_time = a_data.iloc[0,0]\n",
    "\n",
    "divorced_after = a_data.iloc[1,2]\n",
    "divorced_after_time = a_data.iloc[1,0]\n",
    "\n",
    "divorced_change_proc = round(((divorced_after/divorced_before)-1)*100,2)\n",
    "\n",
    "change_type = 'increased' if divorced_change_proc >= 0 else 'decreased'\n",
    "message = ('The amount of divorced people has ' + change_type + ' by ' + str(divorced_change_proc) \n",
    "           + '% from ' + divorced_before_time + ' to ' + divorced_after_time)\n",
    "\n",
    "print(message)"
   ]
  },
  {
   "cell_type": "code",
   "execution_count": 4,
   "metadata": {},
   "outputs": [
    {
     "name": "stdout",
     "output_type": "stream",
     "text": [
      "Of the 5 biggest cities, København has the largest unmarried rate, with 65.43%\n"
     ]
    },
    {
     "data": {
      "text/html": [
       "<div>\n",
       "<style scoped>\n",
       "    .dataframe tbody tr th:only-of-type {\n",
       "        vertical-align: middle;\n",
       "    }\n",
       "\n",
       "    .dataframe tbody tr th {\n",
       "        vertical-align: top;\n",
       "    }\n",
       "\n",
       "    .dataframe thead th {\n",
       "        text-align: right;\n",
       "    }\n",
       "</style>\n",
       "<table border=\"1\" class=\"dataframe\">\n",
       "  <thead>\n",
       "    <tr style=\"text-align: right;\">\n",
       "      <th></th>\n",
       "      <th>OMRÅDE</th>\n",
       "      <th>CIVILSTAND</th>\n",
       "      <th>TID</th>\n",
       "      <th>INDHOLD</th>\n",
       "    </tr>\n",
       "  </thead>\n",
       "  <tbody>\n",
       "    <tr>\n",
       "      <th>4</th>\n",
       "      <td>København</td>\n",
       "      <td>I alt</td>\n",
       "      <td>2020K3</td>\n",
       "      <td>633035</td>\n",
       "    </tr>\n",
       "    <tr>\n",
       "      <th>168</th>\n",
       "      <td>Aarhus</td>\n",
       "      <td>I alt</td>\n",
       "      <td>2020K3</td>\n",
       "      <td>349433</td>\n",
       "    </tr>\n",
       "    <tr>\n",
       "      <th>208</th>\n",
       "      <td>Aalborg</td>\n",
       "      <td>I alt</td>\n",
       "      <td>2020K3</td>\n",
       "      <td>217316</td>\n",
       "    </tr>\n",
       "    <tr>\n",
       "      <th>116</th>\n",
       "      <td>Odense</td>\n",
       "      <td>I alt</td>\n",
       "      <td>2020K3</td>\n",
       "      <td>204718</td>\n",
       "    </tr>\n",
       "    <tr>\n",
       "      <th>142</th>\n",
       "      <td>Vejle</td>\n",
       "      <td>I alt</td>\n",
       "      <td>2020K3</td>\n",
       "      <td>116468</td>\n",
       "    </tr>\n",
       "  </tbody>\n",
       "</table>\n",
       "</div>"
      ],
      "text/plain": [
       "        OMRÅDE CIVILSTAND     TID  INDHOLD\n",
       "4    København      I alt  2020K3   633035\n",
       "168     Aarhus      I alt  2020K3   349433\n",
       "208    Aalborg      I alt  2020K3   217316\n",
       "116     Odense      I alt  2020K3   204718\n",
       "142      Vejle      I alt  2020K3   116468"
      ]
     },
     "execution_count": 4,
     "metadata": {},
     "output_type": "execute_result"
    }
   ],
   "source": [
    "#B\n",
    "#Masks\n",
    "mask_not_country = (b_data[:]['OMRÅDE'] != 'Hele landet')\n",
    "mask_not_region = (b_data[:]['OMRÅDE'].str.contains('Region') == False)\n",
    "mask_not_city = mask_not_country & mask_not_region\n",
    "\n",
    "mask_all_status = (b_data[:]['CIVILSTAND'] == 'I alt')\n",
    "mask_unmarried_status = (b_data[:]['CIVILSTAND'] == 'Ugift')\n",
    "\n",
    "b_filtered_all_data = b_data[mask_not_city & mask_all_status]\n",
    "five_largest = b_filtered_all_data.sort_values('INDHOLD', ascending=False)[:5]\n",
    "\n",
    "b_filtered_unmarried_data = b_data[mask_not_city & mask_unmarried_status]\n",
    "five_largest_unmarried = b_filtered_unmarried_data.sort_values('INDHOLD', ascending=False)[:5]\n",
    "\n",
    "highest = {'area':'Nowhere', 'proc':0}\n",
    "\n",
    "for area in five_largest['OMRÅDE']:\n",
    "    full_amount = int(five_largest[(five_largest[:]['OMRÅDE'] == area)]['INDHOLD'])\n",
    "    unmarried_amount = int(b_data[mask_not_city & mask_unmarried_status & (b_data[:]['OMRÅDE'] == area)]['INDHOLD'])\n",
    "    city_proc = round((unmarried_amount/full_amount)*100,2)\n",
    "    if city_proc > highest['proc']:\n",
    "        highest['area'] = area\n",
    "        highest['proc'] = city_proc\n",
    "\n",
    "print('Of the 5 biggest cities, ' + highest['area'] + ' has the largest unmarried rate, with ' + str(highest['proc']) + \"%\")\n",
    "\n",
    "five_largest\n",
    "#five_largest_unmarried"
   ]
  },
  {
   "cell_type": "code",
   "execution_count": 5,
   "metadata": {},
   "outputs": [
    {
     "data": {
      "image/png": "[encoded data removed]",
      "text/plain": [
       "<Figure size 432x288 with 1 Axes>"
      ]
     },
     "metadata": {
      "needs_background": "light"
     },
     "output_type": "display_data"
    }
   ],
   "source": [
    "import matplotlib.pyplot as plt\n",
    "%matplotlib inline\n",
    "\n",
    "smaller_c_data = c_data[(c_data[:]['TID'].str.contains('K1'))]\n",
    "bar_data = smaller_c_data;\n",
    "#bar_data = c_data;\n",
    "\n",
    "bar_data.plot(kind=\"bar\", x='TID', y='INDHOLD')\n",
    "\n",
    "plt.ylim(125000,155000)\n",
    "plt.show()"
   ]
  },
  {
   "cell_type": "code",
   "execution_count": 25,
   "metadata": {},
   "outputs": [
    {
     "data": {
      "image/png": "[encoded data removed]",
      "text/plain": [
       "<Figure size 1440x576 with 1 Axes>"
      ]
     },
     "metadata": {
      "needs_background": "light"
     },
     "output_type": "display_data"
    }
   ],
   "source": [
    "import matplotlib.pyplot as plt\n",
    "%matplotlib inline\n",
    "\n",
    "married_data = d_data[(d_data[:]['CIVILSTAND'].str.contains('Gift')) & (d_data[:]['ALDER'] != 'I alt')].reset_index(drop=True)\n",
    "not_married_data = d_data[(d_data[:]['CIVILSTAND'].str.contains('Ugift')) & (d_data[:]['ALDER'] != 'I alt')].reset_index(drop=True)\n",
    "\n",
    "data = pd.concat([not_married_data, married_data], axis=1, keys=['Not Married','Married'])\n",
    "\n",
    "data.plot(kind=\"bar\", figsize=(20,8))\n",
    "plt.xlim(0,100)\n",
    "\n",
    "plt.show()"
   ]
  },
  {
   "cell_type": "code",
   "execution_count": null,
   "metadata": {},
   "outputs": [],
   "source": []
  }
 ],
 "metadata": {
  "kernelspec": {
   "display_name": "Python 3",
   "language": "python",
   "name": "python3"
  },
  "language_info": {
   "codemirror_mode": {
    "name": "ipython",
    "version": 3
   },
   "file_extension": ".py",
   "mimetype": "text/x-python",
   "name": "python",
   "nbconvert_exporter": "python",
   "pygments_lexer": "ipython3",
   "version": "3.7.6"
  }
 },
 "nbformat": 4,
 "nbformat_minor": 4
}
