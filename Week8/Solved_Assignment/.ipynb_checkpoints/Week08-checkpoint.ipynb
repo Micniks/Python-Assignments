{
 "cells": [
  {
   "cell_type": "markdown",
   "metadata": {},
   "source": [
    "# Week 8, Lucky drawing's Assignment\n",
    "\n",
    "1. Create a python notebook, and make the proper setup with pandas/numpy & sqlalchemy, to persist all 200 people from the .csv file.\n",
    "2. Make a simple flask server with one, get endpoint ```/flask_app/```.\n",
    "  1. Make it write ```Hello World```.\n",
    "3. Use the Flask extended start code from day ```08-2 Web services```, and make the following endpoints:\n",
    "  1. ```/api/showAll```\n",
    "  2. ```/api/employee/<string: firstName>/<string: lastName>```\n",
    "  3. ```/api/employee/add```\n",
    "  4. ```/api/employee/delete```\n",
    "  5. ```/api/employee/update```\n",
    "4. Test endpoints in Postman.\n",
    "5. Test the class from the .py file in CLI."
   ]
  },
  {
   "cell_type": "markdown",
   "metadata": {},
   "source": [
    "### Part 1"
   ]
  },
  {
   "cell_type": "code",
   "execution_count": 1,
   "metadata": {
    "scrolled": true
   },
   "outputs": [
    {
     "data": {
      "text/plain": [
       "18290"
      ]
     },
     "execution_count": 1,
     "metadata": {},
     "output_type": "execute_result"
    }
   ],
   "source": [
    "# Download the file\n",
    "\n",
    "import requests\n",
    "\n",
    "file_name = 'people.csv'\n",
    "\n",
    "url = 'https://raw.githubusercontent.com/Tunoc/sem4python_notebooks/master/Week8/exercise/People.csv'\n",
    "response = requests.get(url)\n",
    "open(file_name, 'wb').write(response.content)"
   ]
  },
  {
   "cell_type": "code",
   "execution_count": 2,
   "metadata": {},
   "outputs": [
    {
     "name": "stdout",
     "output_type": "stream",
     "text": [
      "200 people read in from csv file: people.csv\n",
      "\n",
      "\u001b[1mFirst Person at index: 0\u001b[0m\n",
      "First Name                   Victoria\n",
      "Last Name                      Watson\n",
      "Gender                         Female\n",
      "Age                                34\n",
      "Email         v.watson@randatmail.com\n",
      "Phone                     827-3830-70\n",
      "Occupation                  Economist\n",
      "Salary                           7818\n",
      "Name: 0, dtype: object\n"
     ]
    }
   ],
   "source": [
    "#Open the file in a panda variable\n",
    "\n",
    "import pandas as pd\n",
    "\n",
    "people = pd.read_csv(file_name, sep=',')\n",
    "idx = 0;\n",
    "\n",
    "print(str(len(people)) + ' people read in from csv file: ' + file_name, end='\\n\\n')\n",
    "print('\\033[1m' + 'First Person at index: ' + str(idx) + '\\033[0m')\n",
    "print(people.iloc[idx])\n",
    "#print(people)"
   ]
  },
  {
   "cell_type": "code",
   "execution_count": 3,
   "metadata": {},
   "outputs": [],
   "source": [
    "#Use sqlalchemy to persist the people\n",
    "\n",
    "import sqlalchemy as s_a\n",
    "from sqlalchemy.types import Integer, Text, Float\n",
    "\n",
    "SQLALCHEMY_DATABASE_URL = 'mysql+mysqlconnector://root:root@db/db'\n",
    "engine = s_a.create_engine(SQLALCHEMY_DATABASE_URL)\n",
    "\n",
    "table = \"week_8_assignment\"\n",
    "people.to_sql(\n",
    "    table,\n",
    "    engine,\n",
    "    if_exists=\"replace\",\n",
    "    index=False,\n",
    "    chunksize=500,\n",
    "    dtype={\n",
    "        \"First Name\": Text,\n",
    "        \"Last Name\": Text,\n",
    "        \"Gender\": Text,\n",
    "        \"Age\": Integer,\n",
    "        \"Email\": Text,\n",
    "        \"Phone\": Text,\n",
    "        \"Occupation\": Text,\n",
    "        \"Salary\": Float\n",
    "    }\n",
    ")"
   ]
  },
  {
   "cell_type": "code",
   "execution_count": 4,
   "metadata": {},
   "outputs": [
    {
     "name": "stdout",
     "output_type": "stream",
     "text": [
      "200 people read in from database\n",
      "\n",
      "\u001b[1mFirst Person from Database, at index: 0\u001b[0m\n",
      "Headers:     ['First Name', 'Last Name', 'Gender', 'Age', 'Email', 'Phone', 'Occupation', 'Salary']\n",
      "Result:      ('Victoria', 'Watson', 'Female', 34, 'v.watson@randatmail.com', '827-3830-70', 'Economist', 7818.0)\n"
     ]
    }
   ],
   "source": [
    "# Checking that we can pull people out of the database again\n",
    "\n",
    "conn = engine.connect()\n",
    "query = 'SELECT * FROM ' + table\n",
    "response = conn.execute(query)\n",
    "results = response.fetchall()\n",
    "conn.close()\n",
    "\n",
    "len(results)\n",
    "\n",
    "print(str(len(results)) + ' people read in from database', end='\\n\\n')\n",
    "print('\\033[1m' + 'First Person from Database, at index: ' + str(idx) + '\\033[0m')\n",
    "print('Headers:     ' + str(response.keys()))\n",
    "print('Result:      ' + str(results[idx]))\n",
    "#print(people)"
   ]
  },
  {
   "cell_type": "markdown",
   "metadata": {},
   "source": [
    "### Part 2 - 5"
   ]
  },
  {
   "cell_type": "markdown",
   "metadata": {},
   "source": [
    "Written into the file week08_flask.py found next to this file! \n",
    "\n",
    "Run from cmd the following:\n",
    "\n",
    "```docker exec -it -e FLASK_APP=\"my_notebooks/Assignments/Week8/Solved_Assignment/week08_flask.py\" notebookserver bash```\n",
    "\n",
    "```FLASK_ENV=development flask run --host=0.0.0.0```"
   ]
  }
 ],
 "metadata": {
  "kernelspec": {
   "display_name": "Python 3",
   "language": "python",
   "name": "python3"
  },
  "language_info": {
   "codemirror_mode": {
    "name": "ipython",
    "version": 3
   },
   "file_extension": ".py",
   "mimetype": "text/x-python",
   "name": "python",
   "nbconvert_exporter": "python",
   "pygments_lexer": "ipython3",
   "version": "3.7.6"
  }
 },
 "nbformat": 4,
 "nbformat_minor": 4
}
