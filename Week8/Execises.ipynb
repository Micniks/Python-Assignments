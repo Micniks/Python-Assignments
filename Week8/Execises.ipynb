{
 "cells": [
  {
   "cell_type": "markdown",
   "metadata": {},
   "source": [
    "## Class exercise Select\n",
    "1. Use the ex1 table on the mysql_notebooks server\n",
    "2. Select only those customers with less than `$3000` on the account"
   ]
  },
  {
   "cell_type": "code",
   "execution_count": null,
   "metadata": {},
   "outputs": [],
   "source": [
    "import mysql.connector as mysql\n",
    "\n",
    "db = mysql.connect(\n",
    "    host = \"db\",\n",
    "    user = \"root\",\n",
    "    passwd = \"root\",\n",
    "    db = \"db\",\n",
    "    charset='latin1'\n",
    ")\n",
    "\n",
    "cur = db.cursor()\n",
    "query = 'select * from ex1 where account < 3000'\n",
    "cur.execute(query)\n",
    "print('TABLE COLUMNS: ',cur.column_names,'\\n')\n",
    "\n",
    "myresult = cur.fetchall()\n",
    "\n",
    "for x in myresult:\n",
    "    for idx in range(0,len(cur.column_names)):\n",
    "        col_title = \"\\033[1m\" + cur.column_names[idx] + \"\\033[0m\"\n",
    "        col_data = str(x[idx])\n",
    "        print(col_title + \":  \" + col_data)\n",
    "    print()"
   ]
  },
  {
   "cell_type": "markdown",
   "metadata": {},
   "source": [
    "## Exercise\n",
    "Create a function that can take a dict and a table name and persist all values of the dict into the table columns corresponding to the dict keys.\n",
    "\n",
    "Hint: https://dev.mysql.com/doc/connector-python/en/connector-python-example-cursor-transaction.html"
   ]
  },
  {
   "cell_type": "code",
   "execution_count": 21,
   "metadata": {},
   "outputs": [
    {
     "name": "stdout",
     "output_type": "stream",
     "text": [
      "INSERT INTO tableExercise (first_name, last_name, age) values ('Jeff', 'Jackson', 27)\n",
      "1 Rows was Inserted into table: tableExercise\n",
      "\n",
      "INSERT INTO tableExercise (first_name, last_name, age) values ('Boris', 'Johnson', 65)\n",
      "1 Rows was Inserted into table: tableExercise\n",
      "\n",
      "INSERT INTO tableExercise (first_name, last_name, age) values ('Leif', 'Peterson', 43)\n",
      "1 Rows was Inserted into table: tableExercise\n",
      "\n",
      "INSERT INTO tableExercise (first_name, last_name, age) values ('Peter', 'White', 25)\n",
      "1 Rows was Inserted into table: tableExercise\n",
      "\n",
      "INSERT INTO tableExercise (first_name, last_name, age) values ('Jack', 'Black', 75)\n",
      "1 Rows was Inserted into table: tableExercise\n",
      "\n",
      "INSERT INTO tableExercise (first_name, last_name, age) values ('Steve', 'Sorensen', 18)\n",
      "1 Rows was Inserted into table: tableExercise\n",
      "\n"
     ]
    }
   ],
   "source": [
    "import mysql.connector as mysql\n",
    "\n",
    "db = mysql.connect(\n",
    "    host = \"db\",\n",
    "    user = \"root\",\n",
    "    passwd = \"root\",\n",
    "    db = \"db\"\n",
    ")\n",
    "\n",
    "c = db.cursor()\n",
    "c.execute(\"DROP TABLE IF EXISTS tableExercise\")\n",
    "c.close()\n",
    "c = db.cursor()\n",
    "q = ('CREATE TABLE IF NOT EXISTS tableExercise('+\n",
    "    '  `member_id` int(11) NOT NULL AUTO_INCREMENT,'+\n",
    "    '  `first_name` varchar(14) NOT NULL,'+\n",
    "    '  `last_name` varchar(14) NOT NULL,'+\n",
    "    '  `age` int(11) NOT NULL,'+\n",
    "    '  PRIMARY KEY (`member_id`)'+\n",
    "    ') ENGINE=InnoDB')\n",
    "c.execute(q)\n",
    "c.close()\n",
    "\n",
    "def myFunc(my_dict, table_name):\n",
    "    cur = db.cursor()\n",
    "    query = 'INSERT INTO ' + table_name + ' ('\n",
    "    query_values = ' values ('\n",
    "    for k, v in my_dict.items():\n",
    "        query += k + ', '\n",
    "        query_values += str(v) + ', '\n",
    "    query = query[:-2] + ')' + query_values[:-2] + ')'\n",
    "    print(query)\n",
    "    cur.execute(query)\n",
    "    print(str(cur.rowcount) + \" Rows was Inserted into table: \" + table_name)\n",
    "    cur.close()\n",
    "    db.commit()\n",
    "    print()\n",
    "    \n",
    "myFunc({'first_name': \"'Jeff'\", 'last_name':\"'Jackson'\", 'age':27}, \"tableExercise\")\n",
    "myFunc({'first_name': \"'Boris'\", 'last_name':\"'Johnson'\", 'age':65}, \"tableExercise\")\n",
    "myFunc({'first_name': \"'Leif'\", 'last_name':\"'Peterson'\", 'age':43}, \"tableExercise\")\n",
    "myFunc({'first_name': \"'Peter'\", 'last_name':\"'White'\", 'age':25}, \"tableExercise\")\n",
    "myFunc({'first_name': \"'Jack'\", 'last_name':\"'Black'\", 'age':75}, \"tableExercise\")\n",
    "myFunc({'first_name': \"'Steve'\", 'last_name':\"'Sorensen'\", 'age':18}, \"tableExercise\")"
   ]
  },
  {
   "cell_type": "code",
   "execution_count": null,
   "metadata": {},
   "outputs": [],
   "source": []
  }
 ],
 "metadata": {
  "kernelspec": {
   "display_name": "Python 3",
   "language": "python",
   "name": "python3"
  },
  "language_info": {
   "codemirror_mode": {
    "name": "ipython",
    "version": 3
   },
   "file_extension": ".py",
   "mimetype": "text/x-python",
   "name": "python",
   "nbconvert_exporter": "python",
   "pygments_lexer": "ipython3",
   "version": "3.7.6"
  }
 },
 "nbformat": 4,
 "nbformat_minor": 4
}
