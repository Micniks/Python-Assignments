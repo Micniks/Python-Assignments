{
 "cells": [
  {
   "cell_type": "markdown",
   "metadata": {},
   "source": [
    "Given the below dictionarys find out where each of the 4 people find the cheapest shopping according to their needs.\n",
    "```python\n",
    "shoppers = {\n",
    "'Paula':{'Is':4,'Juice':2,'Kakao':3,'Lagkager':2},\n",
    "'Peter':{'Is':2,'Juice':5,'Kakao':0, 'Lagkager':4},\n",
    "'Pandora':{'Is':5,'Juice':3, 'Kakao':4, 'Lagkager':5},\n",
    "'Pietro':{'Is':1,'Juice':8, 'Kakao':9, 'Lagkager':1}\n",
    "}\n",
    "shop_prices = {\n",
    "    'Netto': {'Is':10.50,'Juice':2.25,'Kakao':4.50,'Lagkager':33.50},\n",
    "    'Fakta': {'Is':4.00,'Juice':4.50,'Kakao':6.25,'Lagkager':20.00}\n",
    "}\n",
    "```\n",
    "Hint: you can use pandas and Transpose to create dataframe: `pd.DataFrame(shoppers).T`"
   ]
  },
  {
   "cell_type": "code",
   "execution_count": 29,
   "metadata": {},
   "outputs": [
    {
     "name": "stdout",
     "output_type": "stream",
     "text": [
      "Shoppers:  [[4 2 3 2]\n",
      " [2 5 0 4]\n",
      " [5 3 4 5]\n",
      " [1 8 9 1]]\n",
      "\n",
      "Prices:  [[10.5   4.  ]\n",
      " [ 2.25  4.5 ]\n",
      " [ 4.5   6.25]\n",
      " [33.5  20.  ]]\n",
      "\n",
      "Result:  [[127.    83.75]\n",
      " [166.25 110.5 ]\n",
      " [244.75 158.5 ]\n",
      " [102.5  116.25]]\n",
      "\n"
     ]
    }
   ],
   "source": [
    "import numpy as np\n",
    "\n",
    "shoppers = {\n",
    "'Paula':{'Is':4,'Juice':2,'Kakao':3,'Lagkager':2},\n",
    "'Peter':{'Is':2,'Juice':5,'Kakao':0, 'Lagkager':4},\n",
    "'Pandora':{'Is':5,'Juice':3, 'Kakao':4, 'Lagkager':5},\n",
    "'Pietro':{'Is':1,'Juice':8, 'Kakao':9, 'Lagkager':1}\n",
    "}\n",
    "\n",
    "shop_prices = {\n",
    "    'Netto': {'Is':10.50,'Juice':2.25,'Kakao':4.50,'Lagkager':33.50},\n",
    "    'Fakta': {'Is':4.00,'Juice':4.50,'Kakao':6.25,'Lagkager':20.00}\n",
    "}\n",
    "\n",
    "\n",
    "def make_matrix(data):\n",
    "    result = []\n",
    "    for key, value in data.items():\n",
    "        result.append(list(v for k, v in value.items()))\n",
    "    return np.array(result)\n",
    "\n",
    "S = make_matrix(shoppers) #For Shoppers\n",
    "P = make_matrix(shop_prices).T #For Prices\n",
    "R = S.dot(P) #Result\n",
    "\n",
    "\n",
    "\n",
    "print('Shoppers: ', S, end='\\n\\n')\n",
    "print('Prices: ', P, end='\\n\\n')\n",
    "print('Result: ', R, end='\\n\\n')"
   ]
  },
  {
   "cell_type": "markdown",
   "metadata": {},
   "source": [
    "## Exercise linear regression model\n",
    "Are there a linear relationship here in this csv data:\n",
    "```csv\n",
    "year,GDP(trillion),4wheeler_car_sale\n",
    "2011,6.2,26.3\n",
    "2012,6.5,26.65\n",
    "2013,5.48,25.03\n",
    "2014,6.54,26.01\n",
    "2015,7.18,27.9\n",
    "2016,7.93,30.47\n",
    "```\n",
    "1. save data in a file: car_sales.csv\n",
    "2. plot car sales as a function to GDP (is there a linear relationship?)\n",
    "3. fit data to a klearn linear regression model\n",
    "4. predict sales if GDP hits 9 trillion lakhs"
   ]
  },
  {
   "cell_type": "code",
   "execution_count": 71,
   "metadata": {},
   "outputs": [
    {
     "name": "stdout",
     "output_type": "stream",
     "text": [
      "[[6.2], [6.5], [5.48], [6.54], [7.18], [7.93]]\n",
      "[26.3, 26.65, 25.03, 26.01, 27.9, 30.47]\n"
     ]
    },
    {
     "data": {
      "text/plain": [
       "array([32.22232152])"
      ]
     },
     "execution_count": 71,
     "metadata": {},
     "output_type": "execute_result"
    }
   ],
   "source": [
    "import pandas as pd\n",
    "import sklearn.linear_model\n",
    "\n",
    "data = pd.read_csv(\"exercise_data.csv\")\n",
    "\n",
    "x_data = list([x] for x in data['GDP(trillion)'])\n",
    "y_data = data['4wheeler_car_sale']\n",
    "\n",
    "model = sklearn.linear_model.LinearRegression()\n",
    "#data\n",
    "print(x_data)\n",
    "print(list(y_data))\n",
    "\n",
    "model.fit(x_data, y_data)\n",
    "model.predict([[9]])"
   ]
  },
  {
   "cell_type": "markdown",
   "metadata": {},
   "source": [
    "Make Data for our down assignment:"
   ]
  },
  {
   "cell_type": "code",
   "execution_count": 9,
   "metadata": {},
   "outputs": [
    {
     "data": {
      "text/html": [
       "<div>\n",
       "<style scoped>\n",
       "    .dataframe tbody tr th:only-of-type {\n",
       "        vertical-align: middle;\n",
       "    }\n",
       "\n",
       "    .dataframe tbody tr th {\n",
       "        vertical-align: top;\n",
       "    }\n",
       "\n",
       "    .dataframe thead th {\n",
       "        text-align: right;\n",
       "    }\n",
       "</style>\n",
       "<table border=\"1\" class=\"dataframe\">\n",
       "  <thead>\n",
       "    <tr style=\"text-align: right;\">\n",
       "      <th></th>\n",
       "      <th>year</th>\n",
       "      <th>new_recruit</th>\n",
       "      <th>amount_spend(per_10000)</th>\n",
       "      <th>total_amount</th>\n",
       "    </tr>\n",
       "  </thead>\n",
       "  <tbody>\n",
       "    <tr>\n",
       "      <th>0</th>\n",
       "      <td>1605</td>\n",
       "      <td>9</td>\n",
       "      <td>0.09</td>\n",
       "      <td>344</td>\n",
       "    </tr>\n",
       "    <tr>\n",
       "      <th>1</th>\n",
       "      <td>1606</td>\n",
       "      <td>11</td>\n",
       "      <td>0.11</td>\n",
       "      <td>355</td>\n",
       "    </tr>\n",
       "    <tr>\n",
       "      <th>2</th>\n",
       "      <td>1607</td>\n",
       "      <td>11</td>\n",
       "      <td>0.11</td>\n",
       "      <td>366</td>\n",
       "    </tr>\n",
       "    <tr>\n",
       "      <th>3</th>\n",
       "      <td>1608</td>\n",
       "      <td>10</td>\n",
       "      <td>0.10</td>\n",
       "      <td>376</td>\n",
       "    </tr>\n",
       "    <tr>\n",
       "      <th>4</th>\n",
       "      <td>1609</td>\n",
       "      <td>12</td>\n",
       "      <td>0.11</td>\n",
       "      <td>388</td>\n",
       "    </tr>\n",
       "    <tr>\n",
       "      <th>...</th>\n",
       "      <td>...</td>\n",
       "      <td>...</td>\n",
       "      <td>...</td>\n",
       "      <td>...</td>\n",
       "    </tr>\n",
       "    <tr>\n",
       "      <th>411</th>\n",
       "      <td>2016</td>\n",
       "      <td>704</td>\n",
       "      <td>7.05</td>\n",
       "      <td>64063</td>\n",
       "    </tr>\n",
       "    <tr>\n",
       "      <th>412</th>\n",
       "      <td>2017</td>\n",
       "      <td>601</td>\n",
       "      <td>6.14</td>\n",
       "      <td>64664</td>\n",
       "    </tr>\n",
       "    <tr>\n",
       "      <th>413</th>\n",
       "      <td>2018</td>\n",
       "      <td>677</td>\n",
       "      <td>7.06</td>\n",
       "      <td>65341</td>\n",
       "    </tr>\n",
       "    <tr>\n",
       "      <th>414</th>\n",
       "      <td>2019</td>\n",
       "      <td>659</td>\n",
       "      <td>6.73</td>\n",
       "      <td>66000</td>\n",
       "    </tr>\n",
       "    <tr>\n",
       "      <th>415</th>\n",
       "      <td>2020</td>\n",
       "      <td>666</td>\n",
       "      <td>6.66</td>\n",
       "      <td>66666</td>\n",
       "    </tr>\n",
       "  </tbody>\n",
       "</table>\n",
       "<p>416 rows × 4 columns</p>\n",
       "</div>"
      ],
      "text/plain": [
       "     year  new_recruit  amount_spend(per_10000)  total_amount\n",
       "0    1605            9                     0.09           344\n",
       "1    1606           11                     0.11           355\n",
       "2    1607           11                     0.11           366\n",
       "3    1608           10                     0.10           376\n",
       "4    1609           12                     0.11           388\n",
       "..    ...          ...                      ...           ...\n",
       "411  2016          704                     7.05         64063\n",
       "412  2017          601                     6.14         64664\n",
       "413  2018          677                     7.06         65341\n",
       "414  2019          659                     6.73         66000\n",
       "415  2020          666                     6.66         66666\n",
       "\n",
       "[416 rows x 4 columns]"
      ]
     },
     "execution_count": 9,
     "metadata": {},
     "output_type": "execute_result"
    },
    {
     "data": {
      "image/png": "[encoded data removed]",
      "text/plain": [
       "<Figure size 432x288 with 1 Axes>"
      ]
     },
     "metadata": {
      "needs_background": "light"
     },
     "output_type": "display_data"
    },
    {
     "data": {
      "image/png": "[encoded data removed]",
      "text/plain": [
       "<Figure size 432x288 with 1 Axes>"
      ]
     },
     "metadata": {
      "needs_background": "light"
     },
     "output_type": "display_data"
    }
   ],
   "source": [
    "import random\n",
    "import pandas as pd\n",
    "\n",
    "amount_modifer = 100.9\n",
    "\n",
    "csv_text = ''\n",
    "total = 66000\n",
    "manufactored_data = []\n",
    "manufactored_data.append([2020,666,6.66])  \n",
    "year = 2019\n",
    "while(total > 1000):\n",
    "    modifier = amount_modifer + random.randint(-5,5)\n",
    "    spend = round(total*((100+random.randint(-10,10))/100)/10000,2)\n",
    "    new_recruits = int(round(spend*modifier,0))\n",
    "    if(year < 2019):\n",
    "        total -= new_recruits\n",
    "    manufactored_data.append([year, new_recruits, spend])\n",
    "    year += -1\n",
    "\n",
    "manufactored_data[0].append(66666)\n",
    "for idx in range(0, len(manufactored_data)-1):\n",
    "    row = manufactored_data[idx]\n",
    "    manufactored_data[idx+1].append(row[3]-row[1])\n",
    "\n",
    "for row in manufactored_data:\n",
    "    csv_text = str(row[0]) + ',' + str(row[1]) + ',' + str(row[2]) + ',' + str(row[3]) + '\\n' + csv_text\n",
    "    \n",
    "csv_text = 'year,new_recruit,amount_spend(per_10000),total_amount\\n' + csv_text\n",
    "#print(csv_text)\n",
    "\n",
    "data = pd.read_csv('test.csv')\n",
    "data.plot.scatter(x = 2, y = 1)\n",
    "data.plot.scatter(x = 3, y = 1)\n",
    "\n",
    "data"
   ]
  },
  {
   "cell_type": "code",
   "execution_count": 76,
   "metadata": {},
   "outputs": [
    {
     "name": "stdout",
     "output_type": "stream",
     "text": [
      "col1 is female, col2 is male, col3 is 1, col4 is 2, col5 is 3\n"
     ]
    },
    {
     "data": {
      "text/plain": [
       "matrix([[1., 0., 0., 0., 1., 0., 1., 0., 0., 1., 0.],\n",
       "        [0., 1., 0., 0., 0., 1., 1., 0., 1., 0., 0.],\n",
       "        [0., 0., 1., 1., 0., 0., 1., 0., 0., 0., 1.],\n",
       "        [1., 0., 0., 0., 0., 1., 0., 1., 0., 0., 1.]])"
      ]
     },
     "execution_count": 76,
     "metadata": {},
     "output_type": "execute_result"
    }
   ],
   "source": [
    "from sklearn.preprocessing import OneHotEncoder\n",
    "encoder = OneHotEncoder()\n",
    "xs = [['ClassA', 1, 1, 1], ['ClassB', 2, 1, 0], ['ClassC', 0, 1, 2], ['ClassA', 2, 2, 2]]\n",
    "print('col1 is female, col2 is male, col3 is 1, col4 is 2, col5 is 3')\n",
    "encoder.fit_transform(xs).todense()"
   ]
  },
  {
   "cell_type": "code",
   "execution_count": null,
   "metadata": {},
   "outputs": [],
   "source": []
  }
 ],
 "metadata": {
  "kernelspec": {
   "display_name": "Python 3",
   "language": "python",
   "name": "python3"
  },
  "language_info": {
   "codemirror_mode": {
    "name": "ipython",
    "version": 3
   },
   "file_extension": ".py",
   "mimetype": "text/x-python",
   "name": "python",
   "nbconvert_exporter": "python",
   "pygments_lexer": "ipython3",
   "version": "3.7.6"
  }
 },
 "nbformat": 4,
 "nbformat_minor": 4
}
