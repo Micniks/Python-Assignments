{
 "cells": [
  {
   "cell_type": "markdown",
   "metadata": {},
   "source": [
    "**Week:** 12\n",
    "\n",
    "**Assignment from Group:** Uptight Wealth\n",
    "\n",
    "**Link:** https://github.com/Micniks/Python-Week12-Group-3-Assignments\n",
    "\n",
    "# The Necromancer Recruitment Service"
   ]
  },
  {
   "cell_type": "markdown",
   "metadata": {},
   "source": [
    "## Assignment 1: Prepare the Ritual\n",
    "\n",
    "For the Perceptron, we are going to need a activation_function, and a perceptron_function\n",
    "\n",
    "1. Make an activation_function, that takes a value, and return 1 if the value > 0, and otherwise returns 0\n",
    "2. Test the activation_function, using an array of numbers from -3 to 3, with an increment of 0,3. Plot the results, to give a visual indication of the response from the activation_function\n",
    "3. Make a perceptron_function, that takes two arrays, inputs and weights for those inputs, and returns a sum from the dotted outcome of the arrays.\n",
    "4. Test the perceptron_function, by feeding it the following, and get 26 as the result:\n",
    "```python\n",
    "perceptron_function([3,4,5], [1,2,3])\n",
    "```"
   ]
  },
  {
   "cell_type": "code",
   "execution_count": 66,
   "metadata": {},
   "outputs": [
    {
     "data": {
      "image/png": "[encoded data removed]",
      "text/plain": [
       "<Figure size 432x288 with 1 Axes>"
      ]
     },
     "metadata": {
      "needs_background": "light"
     },
     "output_type": "display_data"
    },
    {
     "name": "stdout",
     "output_type": "stream",
     "text": [
      "1\n"
     ]
    }
   ],
   "source": [
    "import matplotlib.pyplot as plt\n",
    "import numpy as np\n",
    "\n",
    "#1.1\n",
    "def activation_function(v):\n",
    "    if v > 0:\n",
    "        return 1\n",
    "    else:\n",
    "        return 0\n",
    "\n",
    "#1.2\n",
    "for idx in range(-3,3):\n",
    "    plt.scatter(idx, activation_function(idx), c='r')\n",
    "\n",
    "plt.xticks(np.arange(-4, 4, 1))\n",
    "plt.yticks(np.arange(-1, 3, 1))\n",
    "plt.title('Test of Activation Function')\n",
    "plt.xlabel('Value')\n",
    "plt.ylabel('Activation_Return')\n",
    "plt.show()\n",
    "\n",
    "#1.3\n",
    "def perceptron_function(arr1, arr2):\n",
    "    n_arr1 = np.array(arr1)\n",
    "    n_arr2 = np.array(arr2).T\n",
    "    result = n_arr1.dot(n_arr2)\n",
    "    #result = sum([i * w for i, w in zip(arr1, arr2)])\n",
    "    #return result\n",
    "    return activation_function(result)\n",
    "\n",
    "#1.4\n",
    "print(perceptron_function([3,4,5], [1,2,3]))"
   ]
  },
  {
   "cell_type": "markdown",
   "metadata": {},
   "source": [
    "## Assignment 2: Judge the bodies\n",
    "1. Read in the dataset undeads.csv into a pandas dataframe, and display the dataset.\n",
    "2. Make a new scatter plot with datapoints of Age vs Durability from the dataset. Choose different colors for Zombie and Skeleton\n",
    "3. Now change the 'Type' column to represent Zombie as 1 and Skeleton as 0\n",
    "4. Use these weights herè in order [-9, 7], [-8, 7], [-7, 7] to determine if the following 5 undeads are skeletons or zombies:\n",
    "```python\n",
    "[[47, 41.2, 'Skeleton'], [44, 76.0, 'Zombie'], [59, 36.4, 'Skeleton'], [52, 68.0, 'Zombie'], [51, 39.6, 'Skeleton']]\n",
    "```\n",
    "5. Which of the three weights get's the most correct?\n",
    "6. Find the (approximately) optimal weights using the perceptron learning algorithm\n",
    "7. Plot the division line"
   ]
  },
  {
   "cell_type": "code",
   "execution_count": 60,
   "metadata": {},
   "outputs": [
    {
     "data": {
      "text/html": [
       "<div>\n",
       "<style scoped>\n",
       "    .dataframe tbody tr th:only-of-type {\n",
       "        vertical-align: middle;\n",
       "    }\n",
       "\n",
       "    .dataframe tbody tr th {\n",
       "        vertical-align: top;\n",
       "    }\n",
       "\n",
       "    .dataframe thead th {\n",
       "        text-align: right;\n",
       "    }\n",
       "</style>\n",
       "<table border=\"1\" class=\"dataframe\">\n",
       "  <thead>\n",
       "    <tr style=\"text-align: right;\">\n",
       "      <th></th>\n",
       "      <th>Age</th>\n",
       "      <th>Durability</th>\n",
       "      <th>Type</th>\n",
       "    </tr>\n",
       "  </thead>\n",
       "  <tbody>\n",
       "    <tr>\n",
       "      <th>0</th>\n",
       "      <td>70</td>\n",
       "      <td>34.24</td>\n",
       "      <td>Skeleton</td>\n",
       "    </tr>\n",
       "    <tr>\n",
       "      <th>1</th>\n",
       "      <td>50</td>\n",
       "      <td>39.60</td>\n",
       "      <td>Skeleton</td>\n",
       "    </tr>\n",
       "    <tr>\n",
       "      <th>2</th>\n",
       "      <td>53</td>\n",
       "      <td>33.76</td>\n",
       "      <td>Skeleton</td>\n",
       "    </tr>\n",
       "    <tr>\n",
       "      <th>3</th>\n",
       "      <td>47</td>\n",
       "      <td>63.51</td>\n",
       "      <td>Zombie</td>\n",
       "    </tr>\n",
       "    <tr>\n",
       "      <th>4</th>\n",
       "      <td>51</td>\n",
       "      <td>76.59</td>\n",
       "      <td>Zombie</td>\n",
       "    </tr>\n",
       "    <tr>\n",
       "      <th>...</th>\n",
       "      <td>...</td>\n",
       "      <td>...</td>\n",
       "      <td>...</td>\n",
       "    </tr>\n",
       "    <tr>\n",
       "      <th>155</th>\n",
       "      <td>55</td>\n",
       "      <td>78.65</td>\n",
       "      <td>Zombie</td>\n",
       "    </tr>\n",
       "    <tr>\n",
       "      <th>156</th>\n",
       "      <td>40</td>\n",
       "      <td>41.80</td>\n",
       "      <td>Skeleton</td>\n",
       "    </tr>\n",
       "    <tr>\n",
       "      <th>157</th>\n",
       "      <td>50</td>\n",
       "      <td>46.40</td>\n",
       "      <td>Skeleton</td>\n",
       "    </tr>\n",
       "    <tr>\n",
       "      <th>158</th>\n",
       "      <td>44</td>\n",
       "      <td>50.46</td>\n",
       "      <td>Skeleton</td>\n",
       "    </tr>\n",
       "    <tr>\n",
       "      <th>159</th>\n",
       "      <td>34</td>\n",
       "      <td>45.01</td>\n",
       "      <td>Skeleton</td>\n",
       "    </tr>\n",
       "  </tbody>\n",
       "</table>\n",
       "<p>160 rows × 3 columns</p>\n",
       "</div>"
      ],
      "text/plain": [
       "     Age  Durability      Type\n",
       "0     70       34.24  Skeleton\n",
       "1     50       39.60  Skeleton\n",
       "2     53       33.76  Skeleton\n",
       "3     47       63.51    Zombie\n",
       "4     51       76.59    Zombie\n",
       "..   ...         ...       ...\n",
       "155   55       78.65    Zombie\n",
       "156   40       41.80  Skeleton\n",
       "157   50       46.40  Skeleton\n",
       "158   44       50.46  Skeleton\n",
       "159   34       45.01  Skeleton\n",
       "\n",
       "[160 rows x 3 columns]"
      ]
     },
     "metadata": {},
     "output_type": "display_data"
    }
   ],
   "source": [
    "import pandas as pd\n",
    "\n",
    "#2.1\n",
    "url = 'https://raw.githubusercontent.com/Micniks/Python-Week12-Group-3-Assignments/main/undeads.csv'\n",
    "data = pd.read_csv(url)\n",
    "display(data)"
   ]
  },
  {
   "cell_type": "code",
   "execution_count": 61,
   "metadata": {},
   "outputs": [
    {
     "data": {
      "image/png": "[encoded data removed]",
      "text/plain": [
       "<Figure size 432x288 with 1 Axes>"
      ]
     },
     "metadata": {
      "needs_background": "light"
     },
     "output_type": "display_data"
    }
   ],
   "source": [
    "#2.2\n",
    "for row in data.iterrows():\n",
    "    row_idx = row[0]\n",
    "    row_data = row[1]\n",
    "    undead_age = row_data['Age']\n",
    "    undead_dur = row_data['Durability']\n",
    "    undead_type = row_data['Type']\n",
    "    undead_color = 'b'\n",
    "    if undead_type == 'Zombie':\n",
    "        undead_color = 'g'\n",
    "    \n",
    "    plt.scatter(undead_age, undead_dur, c=undead_color)\n",
    "    \n",
    "plt.axis([0, 70, 0, 100])\n",
    "plt.title('Undead Endurence Tests')\n",
    "plt.xlabel('Age')\n",
    "plt.ylabel('Durability')\n",
    "plt.show()"
   ]
  },
  {
   "cell_type": "code",
   "execution_count": 62,
   "metadata": {},
   "outputs": [
    {
     "data": {
      "text/html": [
       "<div>\n",
       "<style scoped>\n",
       "    .dataframe tbody tr th:only-of-type {\n",
       "        vertical-align: middle;\n",
       "    }\n",
       "\n",
       "    .dataframe tbody tr th {\n",
       "        vertical-align: top;\n",
       "    }\n",
       "\n",
       "    .dataframe thead th {\n",
       "        text-align: right;\n",
       "    }\n",
       "</style>\n",
       "<table border=\"1\" class=\"dataframe\">\n",
       "  <thead>\n",
       "    <tr style=\"text-align: right;\">\n",
       "      <th></th>\n",
       "      <th>Age</th>\n",
       "      <th>Durability</th>\n",
       "      <th>Type</th>\n",
       "    </tr>\n",
       "  </thead>\n",
       "  <tbody>\n",
       "    <tr>\n",
       "      <th>0</th>\n",
       "      <td>70</td>\n",
       "      <td>34.24</td>\n",
       "      <td>0</td>\n",
       "    </tr>\n",
       "    <tr>\n",
       "      <th>1</th>\n",
       "      <td>50</td>\n",
       "      <td>39.60</td>\n",
       "      <td>0</td>\n",
       "    </tr>\n",
       "    <tr>\n",
       "      <th>2</th>\n",
       "      <td>53</td>\n",
       "      <td>33.76</td>\n",
       "      <td>0</td>\n",
       "    </tr>\n",
       "    <tr>\n",
       "      <th>3</th>\n",
       "      <td>47</td>\n",
       "      <td>63.51</td>\n",
       "      <td>1</td>\n",
       "    </tr>\n",
       "    <tr>\n",
       "      <th>4</th>\n",
       "      <td>51</td>\n",
       "      <td>76.59</td>\n",
       "      <td>1</td>\n",
       "    </tr>\n",
       "    <tr>\n",
       "      <th>...</th>\n",
       "      <td>...</td>\n",
       "      <td>...</td>\n",
       "      <td>...</td>\n",
       "    </tr>\n",
       "    <tr>\n",
       "      <th>155</th>\n",
       "      <td>55</td>\n",
       "      <td>78.65</td>\n",
       "      <td>1</td>\n",
       "    </tr>\n",
       "    <tr>\n",
       "      <th>156</th>\n",
       "      <td>40</td>\n",
       "      <td>41.80</td>\n",
       "      <td>0</td>\n",
       "    </tr>\n",
       "    <tr>\n",
       "      <th>157</th>\n",
       "      <td>50</td>\n",
       "      <td>46.40</td>\n",
       "      <td>0</td>\n",
       "    </tr>\n",
       "    <tr>\n",
       "      <th>158</th>\n",
       "      <td>44</td>\n",
       "      <td>50.46</td>\n",
       "      <td>0</td>\n",
       "    </tr>\n",
       "    <tr>\n",
       "      <th>159</th>\n",
       "      <td>34</td>\n",
       "      <td>45.01</td>\n",
       "      <td>0</td>\n",
       "    </tr>\n",
       "  </tbody>\n",
       "</table>\n",
       "<p>160 rows × 3 columns</p>\n",
       "</div>"
      ],
      "text/plain": [
       "     Age  Durability  Type\n",
       "0     70       34.24     0\n",
       "1     50       39.60     0\n",
       "2     53       33.76     0\n",
       "3     47       63.51     1\n",
       "4     51       76.59     1\n",
       "..   ...         ...   ...\n",
       "155   55       78.65     1\n",
       "156   40       41.80     0\n",
       "157   50       46.40     0\n",
       "158   44       50.46     0\n",
       "159   34       45.01     0\n",
       "\n",
       "[160 rows x 3 columns]"
      ]
     },
     "metadata": {},
     "output_type": "display_data"
    }
   ],
   "source": [
    "#2.3\n",
    "data = pd.read_csv(url)\n",
    "\n",
    "undead_dict = {\"Zombie\": 1, \"Skeleton\": 0}\n",
    "data['Type'].replace(undead_dict, inplace=True)\n",
    "display(data)"
   ]
  },
  {
   "cell_type": "code",
   "execution_count": 70,
   "metadata": {},
   "outputs": [
    {
     "name": "stdout",
     "output_type": "stream",
     "text": [
      "Weight [-9, 7] got the following:\n",
      "Correct guesses: 5\n",
      "Wrong guessed Skeletons: 0\n",
      "Wrong guessed Zombies: 0\n",
      "\n",
      "Weight [-7, 5] got the following:\n",
      "Correct guesses: 4\n",
      "Wrong guessed Skeletons: 0\n",
      "Wrong guessed Zombies: 1\n",
      "\n",
      "Weight [-6, 7] got the following:\n",
      "Correct guesses: 4\n",
      "Wrong guessed Skeletons: 1\n",
      "Wrong guessed Zombies: 0\n",
      "\n"
     ]
    }
   ],
   "source": [
    "#2.4 & 2.5\n",
    "weights = [[-9, 7], [-7, 5], [-6, 7]]\n",
    "inputs = [[47, 41.2, 'Skeleton'], [44, 76.0, 'Zombie'], [59, 36.4, 'Skeleton'], [52, 68.0, 'Zombie'], [51, 39.6, 'Skeleton']]\n",
    "\n",
    "for weight in weights:\n",
    "    correct_guesses = 0\n",
    "    wrong_skeleton_guess = 0\n",
    "    wrong_zombie_guess = 0\n",
    "    for inp in inputs:\n",
    "        result = perceptron_function([inp[0], inp[1]],weight)\n",
    "        if result == undead_dict[inp[2]]:\n",
    "            correct_guesses += 1\n",
    "        else:\n",
    "            if undead_dict[inp[2]] == 0:\n",
    "                wrong_skeleton_guess += 1\n",
    "            elif undead_dict[inp[2]] == 1:\n",
    "                wrong_zombie_guess += 1\n",
    "\n",
    "    print('Weight', weight, 'got the following:')\n",
    "    print('Correct guesses:', correct_guesses)\n",
    "    print('Wrong guessed Skeletons:', wrong_skeleton_guess)\n",
    "    print('Wrong guessed Zombies:', wrong_zombie_guess)\n",
    "    print()"
   ]
  },
  {
   "cell_type": "code",
   "execution_count": 92,
   "metadata": {},
   "outputs": [
    {
     "name": "stdout",
     "output_type": "stream",
     "text": [
      "1\n",
      "3\n"
     ]
    }
   ],
   "source": [
    "#2.6\n"
   ]
  },
  {
   "cell_type": "code",
   "execution_count": null,
   "metadata": {},
   "outputs": [],
   "source": []
  }
 ],
 "metadata": {
  "kernelspec": {
   "display_name": "Python 3",
   "language": "python",
   "name": "python3"
  },
  "language_info": {
   "codemirror_mode": {
    "name": "ipython",
    "version": 3
   },
   "file_extension": ".py",
   "mimetype": "text/x-python",
   "name": "python",
   "nbconvert_exporter": "python",
   "pygments_lexer": "ipython3",
   "version": "3.7.6"
  }
 },
 "nbformat": 4,
 "nbformat_minor": 4
}
