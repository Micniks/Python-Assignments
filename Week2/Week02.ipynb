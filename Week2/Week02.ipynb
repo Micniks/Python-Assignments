{
 "cells": [
  {
   "cell_type": "markdown",
   "metadata": {},
   "source": [
    "# Exercise 1"
   ]
  },
  {
   "cell_type": "markdown",
   "metadata": {},
   "source": [
    "Create a program that can take an input and an output file and write the content of the input file into a list, the console or to the output file."
   ]
  },
  {
   "cell_type": "code",
   "execution_count": null,
   "metadata": {},
   "outputs": [],
   "source": [
    "import argparse\n",
    "parser = argparse.ArgumentParser(description='A program to read from an input file, and either write it out in the console, or to an output file')\n",
    "\n",
    "if __name__ == '__main__':\n",
    "    parser.add_argument('inputFile', help='Name of input file. Must be in the same directory as this file.')\n",
    "    parser.add_argument('--outputFile', help='Name of the output file.')\n",
    "    args = parser.parse_args()\n",
    "\n",
    "    \n",
    "    with open(args.inputFile,'r') as file_object:\n",
    "        inputFileText = file_object.read()\n",
    "\n",
    "    if args.outputFile:\n",
    "        with open(args.outputFile, 'w') as file_object:\n",
    "            file_object.write(inputFileText)\n",
    "\n",
    "    else:\n",
    "        print(inputFileText)"
   ]
  },
  {
   "cell_type": "markdown",
   "metadata": {},
   "source": [
    "Write a python file with 3 functions:\n",
    "  1. `def print_file_content(file)` that can print content of a text file to the console\n",
    "  2. `def write_list_to_file(output_file, lst)` that can take a list or tuple and write each element to a new line in file\n",
    "    1. create a helper function that gets an arbitrary number of strings instead of a list\n",
    "  3. `def read_file(input_file)` that take a csv file and read each row into a list"
   ]
  },
  {
   "cell_type": "code",
   "execution_count": null,
   "metadata": {},
   "outputs": [],
   "source": [
    "import csv\n",
    "\n",
    "def print_file_content(file):\n",
    "    with open(file,'r') as file_object:\n",
    "        fileText = file_object.read()\n",
    "        print(fileText)\n",
    "\n",
    "def write_list_to_file(output_file, lst):\n",
    "    with open(output_file, 'w') as file_object:\n",
    "        file_object.write(lst)\n",
    "        \n",
    "def helper_write_list_to_file(output_file, *lst):\n",
    "    with open(output_file, 'w') as file_object:\n",
    "        file_object.write(lst)\n",
    "        \n",
    "def read_file(input_file):\n",
    "    with open(filename) as f_obj:\n",
    "        content = csv.reader(f_obj)\n",
    "        file_list = [] \n",
    "    for line in content:\n",
    "        file_list.append(line.strip().split(','))\n",
    "    return file_list"
   ]
  },
  {
   "cell_type": "markdown",
   "metadata": {},
   "source": [
    "Add a functionality so that the program can be called from cli with 2 arguments\n",
    "  1. path to input file\n",
    "  2. an argument `--file file_name` to be used as the output file to write to.\n",
    "  3. if only the input file is given write output to console\n",
    "  4. if the input file is given with a list of extra words add those words to the output (whether to file or console)\n",
    "\n",
    "Add 'help' attributes to each cli argument to describe how the module is used "
   ]
  },
  {
   "cell_type": "code",
   "execution_count": null,
   "metadata": {},
   "outputs": [],
   "source": [
    "import argparse\n",
    "parser = argparse.ArgumentParser(description='A program to read from an input file, and either write it out in the console, or to an output file')\n",
    "\n",
    "def print_file_content(file, lst):\n",
    "    with open(file,'r') as file_object:\n",
    "        fileText = file_object.read()\n",
    "        for line in lst:\n",
    "            fileText += line + \"\\n\"\n",
    "        print(fileText)\n",
    "\n",
    "def write_list_to_file(output_file, lst):\n",
    "    with open(output_file, 'w') as file_object:\n",
    "        file_object.write(lst)\n",
    "        \n",
    "def read_file(input_file, lst):\n",
    "    with open(input_file,'r') as file_object:\n",
    "        file_input = file_object.read()\n",
    "        for line in lst:\n",
    "            file_input += line + \"\\n\"\n",
    "        return file_input\n",
    "\n",
    "if __name__ == '__main__':\n",
    "    parser.add_argument('inputFile', help='Name of input file. Must be in the same directory as this file.')\n",
    "    parser.add_argument('--file', '-file_name', help='Name of output file.')\n",
    "    parser.add_argument('strings', metavar='S', type=str, nargs='+')\n",
    "    args = parser.parse_args()\n",
    "\n",
    "    if args.file:\n",
    "        outputFile = args.file\n",
    "        lst = read_file(args.inputFile, args.strings)\n",
    "        write_list_to_file(outputFile,lst)\n",
    "        \n",
    "    else:\n",
    "        print_file_content(args.inputFile, args.strings)"
   ]
  },
  {
   "cell_type": "markdown",
   "metadata": {},
   "source": [
    "# Exercise 2"
   ]
  },
  {
   "cell_type": "markdown",
   "metadata": {},
   "source": [
    "Create a module called utils.py and put the following functions inside:\n",
    "\n",
    "   1. first function takes a path to a folder and writes all filenames in the folder to a specified output file\n",
    "   2. second takes a path to a folder and write all filenames recursively (files of all sub folders to)\n",
    "   3. third takes a list of filenames and print the first line of each\n",
    "   4. fourth takes a list of filenames and print each line that contains an email (just look for @)\n",
    "   5. fifth takes a list of md files and writes all headlines (lines starting with #) to a file\n",
    "\n",
    "Make sure your module can be called both from cli and imported to another module"
   ]
  },
  {
   "cell_type": "code",
   "execution_count": 2,
   "metadata": {},
   "outputs": [],
   "source": [
    "import os\n",
    "\n",
    "def first_function(path, output_file):\n",
    "    lst = os.listdir(path)\n",
    "    with open(output_file, 'w') as file_object:\n",
    "        for line in lst:\n",
    "            file_object.write(line + \"\\n\")\n",
    "    \n",
    "def second_function(path, output_file):\n",
    "    lst = []\n",
    "    for root, directories, files in os.walk(path, topdown=False):\n",
    "            for name in files:\n",
    "                lst.append(os.path.join(root, name)[len(path):])\n",
    "            for name in directories:\n",
    "                lst.append(os.path.join(root, name)[len(path):])\n",
    "    with open(output_file, 'w') as file_object:\n",
    "        for line in lst:\n",
    "            file_object.write(line + \"\\n\")\n",
    "    \n",
    "def third_function(lst):\n",
    "    for file in lst:\n",
    "        with open(file,'r') as file_object:\n",
    "            print(\"First line in: \" + file + \"\\n\" + file_object.readlines()[0])\n",
    "    \n",
    "def fourth_function(lst):\n",
    "    for file in lst:\n",
    "        with open(file,'r') as file_object:\n",
    "            for line in file_object.readlines():\n",
    "                if \"@\" in line:\n",
    "                    print(\"File: \" + file + \"\\n\" + line)\n",
    "    \n",
    "def fifth_function(lst, output_file):\n",
    "    lines_to_output = []\n",
    "    for file in lst:\n",
    "        with open(file,'r') as file_object:\n",
    "            for line in file_object.readlines():\n",
    "                if line[0] == \"#\":\n",
    "                    lines_to_output.append(line);\n",
    "        with open(output_file, 'w') as file_object:\n",
    "            for line in lines_to_output:\n",
    "                file_object.write(line)"
   ]
  },
  {
   "cell_type": "markdown",
   "metadata": {},
   "source": [
    "Create a new module that imports utils.py and test each function."
   ]
  },
  {
   "cell_type": "code",
   "execution_count": 5,
   "metadata": {},
   "outputs": [
    {
     "name": "stdout",
     "output_type": "stream",
     "text": [
      "test 1\n",
      "test 2\n",
      "test 3\n",
      "First line in: ./subfolder/file1.txt\n",
      "line 1\n",
      "\n",
      "First line in: ./subfolder/file2.txt\n",
      "Line a\n",
      "\n",
      "test 4\n",
      "File: ./subfolder/file1.txt\n",
      "line 4 contains here@here.dk\n",
      "\n",
      "File: ./subfolder/file1.txt\n",
      "line 6 contains there@there.everywhere\n",
      "\n",
      "File: ./subfolder/file2.txt\n",
      "Line c@c.c\n",
      "\n",
      "File: ./subfolder/file2.txt\n",
      "Line e@e.e\n",
      "\n",
      "File: ./subfolder/file2.txt\n",
      "Line f@f.f\n",
      "test 5\n"
     ]
    }
   ],
   "source": [
    "import utils as myUtils\n",
    "\n",
    "# Test 1\n",
    "print(\"test 1\")\n",
    "outputFileName = \"outputFile1.txt\"\n",
    "myUtils.first_function(\"./\", outputFileName);\n",
    "\n",
    "# Test 2\n",
    "print(\"test 2\")\n",
    "outputFileName = \"outputFile2.txt\"\n",
    "myUtils.second_function(\"./\", outputFileName);\n",
    "\n",
    "# Test 3\n",
    "print(\"test 3\")\n",
    "lst_files = [\"./subfolder/file1.txt\", \"./subfolder/file2.txt\"]\n",
    "myUtils.third_function(lst_files);\n",
    "\n",
    "# Test 4\n",
    "print(\"test 4\")\n",
    "lst_files = [\"./subfolder/file1.txt\", \"./subfolder/file2.txt\"]\n",
    "myUtils.fourth_function(lst_files);\n",
    "\n",
    "# Test 5\n",
    "print(\"test 5\")\n",
    "outputFileName = \"outputFile5.txt\"\n",
    "lst_files = [\"./subfolder/README.md\", \"./subfolder/README_TOO.md\"]\n",
    "myUtils.fifth_function(lst_files, outputFileName);"
   ]
  },
  {
   "cell_type": "code",
   "execution_count": null,
   "metadata": {},
   "outputs": [],
   "source": []
  }
 ],
 "metadata": {
  "kernelspec": {
   "display_name": "Python 3",
   "language": "python",
   "name": "python3"
  },
  "language_info": {
   "codemirror_mode": {
    "name": "ipython",
    "version": 3
   },
   "file_extension": ".py",
   "mimetype": "text/x-python",
   "name": "python",
   "nbconvert_exporter": "python",
   "pygments_lexer": "ipython3",
   "version": "3.7.6"
  }
 },
 "nbformat": 4,
 "nbformat_minor": 4
}
