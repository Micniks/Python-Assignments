{
 "cells": [
  {
   "cell_type": "markdown",
   "metadata": {},
   "source": [
    "## Exercise 1, Classes\n",
    "\n",
    "1. Create 3 classes: Student, DataSheet and Course\n",
    "2. A student has a data_sheet and a data_sheet has multiple courses in particular order\n",
    "3. Each course has name, classroom, teacher, ETCS and optional grade if course is taken.\n",
    "4. In Student create __init__() so that a Student can be initiated with name, gender, data_sheet and image_url\n",
    "5. In DataSheet create a method to get_grades_as_list()\n",
    "6. In student create a method: get_avg_grade()"
   ]
  },
  {
   "cell_type": "markdown",
   "metadata": {},
   "source": [
    "9. Make a method on Student class that can show progression of the study in % (add up ECTS from all passed courses divided by total of 150 total points (equivalent to 5 semesters))"
   ]
  },
  {
   "cell_type": "code",
   "execution_count": 6,
   "metadata": {},
   "outputs": [],
   "source": [
    "class Student():\n",
    "    \n",
    "    def __init__(self, student_id, name, gender, data_sheet, image_url):\n",
    "        self.student_id = student_id\n",
    "        self.name = name\n",
    "        self.gender = gender\n",
    "        self.data_sheet = data_sheet\n",
    "        self.image_url = image_url\n",
    "        \n",
    "    def __str__(self):\n",
    "        return 'Student {s_id}: {name}, {gender}'.format(s_id=self.student_id, name=self.name, gender=self.gender)\n",
    "        \n",
    "    def get_avg_grade(self):\n",
    "        grade_list = self.data_sheet.get_grades_as_list()\n",
    "        if len(grade_list) == 0:\n",
    "            return \"No Grades Given\"\n",
    "        avg_grade = 0\n",
    "        for grade in grade_list:\n",
    "            avg_grade += grade\n",
    "        return round(avg_grade/len(grade_list),2)\n",
    "    \n",
    "    def show_progression(self):\n",
    "        ETCS_needed = 150\n",
    "        ETCS_completed = 0\n",
    "        for course in self.data_sheet.courses:\n",
    "            if self.student_id in self.course.grades:\n",
    "                if course.grades[self.student_id] >= 2:\n",
    "                    ETCS_completed += course.ETCS\n",
    "        completed_per = ETCS_completed / ETCS_needed\n",
    "        return round(completed_per, 2)"
   ]
  },
  {
   "cell_type": "code",
   "execution_count": 7,
   "metadata": {},
   "outputs": [],
   "source": [
    "class DataSheet():\n",
    "    \n",
    "    def __init__(self, student_id, courses):\n",
    "        self.student_id = student_id\n",
    "        self.courses = courses\n",
    "        \n",
    "    def get_grades_as_list(self):\n",
    "        result = []\n",
    "        for course in self.courses:\n",
    "            if self.student_id in course.grades:\n",
    "                result.append(course.grades[self.student_id])\n",
    "        return result"
   ]
  },
  {
   "cell_type": "code",
   "execution_count": 8,
   "metadata": {},
   "outputs": [],
   "source": [
    "class Course():\n",
    "    \n",
    "    def __init__(self, name, classroom, teacher, ETCS, grades):\n",
    "        self.name = name\n",
    "        self.classroom = classroom\n",
    "        self.teacher = teacher\n",
    "        self.ETCS = ETCS\n",
    "        self.grades = grades"
   ]
  },
  {
   "cell_type": "markdown",
   "metadata": {},
   "source": [
    "7. Create a function that can generate n number of students with random: name, gender, courses (from a fixed list of course names), grades, img_url\n",
    "   1. Let the function write the result to a csv file with format stud_name, course_name, teacher, ects, classroom, grade, img_url"
   ]
  },
  {
   "cell_type": "code",
   "execution_count": 18,
   "metadata": {},
   "outputs": [],
   "source": [
    "import random as r\n",
    "import csv\n",
    "import platform\n",
    "if platform.system() == 'Windows':\n",
    "    newline=''\n",
    "else:\n",
    "    newline=None\n",
    "\n",
    "names = (\"Alex\",\"Jordan\",\"Kim\",\"Charlie\",\"Robin\",\"Jules\",\"Ryley\",\"Ridley\",\"Frankie\",\"Hunter\")\n",
    "surnames = (\"Brown\",\"Grey\",\"Black\",\"Stone\",\"Wood\",\"Baker\",\"Smith\",\"Bond\",\"Carter\",\"Parker\")\n",
    "genders = (\"Male\",\"Female\")\n",
    "grades = (-3,0,2,4,7,10,12)\n",
    "\n",
    "def create_random_student(number_of_students):\n",
    "    course_math = Course(\"Math\", \"101\", \"Peter\", 5, {})\n",
    "    course_programming = Course(\"Programming\", \"102\", \"Peter\", 10, {})\n",
    "    course_graphics = Course(\"Graphics\", \"103\", \"Oliver\", 2.5, {})\n",
    "    course_security = Course(\"Security\", \"104\", \"Mads\", 5, {})\n",
    "    course_gaming = Course(\"Gaming\", \"105\", \"Jennifer\", 2.5, {})\n",
    "    courses = (course_math, course_programming, course_graphics, course_security, course_gaming)\n",
    "    \n",
    "    student_list = []\n",
    "    for student_id in range(1,number_of_students+1):\n",
    "        name = names[r.randint(1,len(names))-1] + \" \" + surnames[r.randint(1,len(surnames))-1]\n",
    "        image_url = name.replace(\" \", \"\") + \".img\"\n",
    "        gender = genders[r.randint(1,len(genders))-1]\n",
    "        student_courses = []\n",
    "        for course in courses:\n",
    "            if r.randint(1,2) == 1:\n",
    "                student_courses.append(course)\n",
    "                if r.randint(1,2) == 1:\n",
    "                    course.grades[student_id] = grades[r.randint(1,len(grades))-1]\n",
    "        data_sheet = DataSheet(student_id, student_courses)\n",
    "        new_student = Student(student_id, name, gender, data_sheet, image_url)\n",
    "        student_list.append(new_student)\n",
    "    \n",
    "    # return student_list\n",
    "    with open(\"randomStudents.csv\", 'w', newline=newline) as output_file:\n",
    "        output_writer = csv.writer(output_file)\n",
    "\n",
    "        for s in student_list:\n",
    "            s_courses = []\n",
    "            s_grades = []\n",
    "            for course in s.data_sheet.courses:\n",
    "                s_courses.append([course.name, course.classroom, course.teacher, course.ETCS])\n",
    "                if s.student_id in course.grades:\n",
    "                    s_grades.append(course.grades[s.student_id])\n",
    "                else:\n",
    "                    s_grades.append(\"No Grade\")\n",
    "            output_writer.writerow([s.student_id, s.name, s.gender, s_courses, s_grades, s.image_url])"
   ]
  },
  {
   "cell_type": "code",
   "execution_count": 19,
   "metadata": {},
   "outputs": [],
   "source": [
    "# Tester\n",
    "\n",
    "def test_student_creation():\n",
    "    random_students = create_random_student(20)\n",
    "    for student in random_students:\n",
    "        print(student)\n",
    "        print(\"Num of Courses: \" + str(len(student.data_sheet.courses)))\n",
    "        print(\"Avg Grade: \" + str(student.get_avg_grade()))\n",
    "        print()\n",
    "\n",
    "#test_student_creation()\n",
    "create_random_student(20)"
   ]
  },
  {
   "cell_type": "markdown",
   "metadata": {},
   "source": [
    "8. Read student data into a list of Students from a csv file: \n",
    "   1. loop through the list and print each student with name, img_url and avg_grade.\n",
    "   2. sort the list by avg_grade\n",
    "   3. create a bar chart with student_name on x and avg_grade on y-axis"
   ]
  },
  {
   "cell_type": "markdown",
   "metadata": {},
   "source": [
    "10. Show a bar chart of distribution of study progression on x-axis and number of students in each category on y-axis. (e.g. make 10 categories from 0-100%)\n",
    "\n",
    "Extra: Make the Datasheet class iterable so that next(data_sheet) will return the next course in the list"
   ]
  },
  {
   "cell_type": "markdown",
   "metadata": {},
   "source": [
    "## Exercise 2, Exceptions\n",
    "\n",
    "1. Create a function that can take a list of students and return the 3 students closest to completing their study.\n",
    "2. If list is shorter than 3 raise your own custom exception (NotEnoughStudentsException)\n",
    "3. Create another function that can create a csv file with 3 students closest to completion\n",
    "   1. If an exception is raised write an appropriate message to the file"
   ]
  },
  {
   "cell_type": "code",
   "execution_count": null,
   "metadata": {},
   "outputs": [],
   "source": []
  },
  {
   "cell_type": "markdown",
   "metadata": {},
   "source": [
    "## Exercise 3, Plotting\n",
    "\n",
    "1. Create a function that can take a list of students and show a pie chart of how students are distributed in ECTS percentage categories (10%, 20%, ...)\n",
    "2. create a function that can take a list of students and show how many students have taken each course (bar chart)\n",
    "   1. create a method on student that can return a list of courses\n",
    "3. make the figure show males and females in different colors for each course (display 2 datasets in same figure)"
   ]
  },
  {
   "cell_type": "code",
   "execution_count": null,
   "metadata": {},
   "outputs": [],
   "source": []
  }
 ],
 "metadata": {
  "kernelspec": {
   "display_name": "Python 3",
   "language": "python",
   "name": "python3"
  },
  "language_info": {
   "codemirror_mode": {
    "name": "ipython",
    "version": 3
   },
   "file_extension": ".py",
   "mimetype": "text/x-python",
   "name": "python",
   "nbconvert_exporter": "python",
   "pygments_lexer": "ipython3",
   "version": "3.7.6"
  }
 },
 "nbformat": 4,
 "nbformat_minor": 4
}
