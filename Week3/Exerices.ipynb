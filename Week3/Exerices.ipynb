{
 "cells": [
  {
   "cell_type": "markdown",
   "metadata": {},
   "source": [
    "## 3.1\n",
    "\n",
    "1. Create a Python module, which consists of a class TextContainer. The class shall implement methods for computing statistics on texts.\n",
    "\n",
    "    - Counting the amount of words used in a text.\n",
    "    - Counting the amount of chars used in a text.\n",
    "    - Counting the amount of letters, where letters are all ASCII letter characters, see\n",
    "\n",
    "            import string\n",
    "            string.ascii_letters  # returns 'abcdefghijklmnopqrstuvwxyzABCDEFGHIJKLMNOPQRSTUVWXYZ'\n",
    "\n",
    "    - Remove all punctuation characters, see\n",
    "\n",
    "            import string\n",
    "            string.punctuation  # returns '!\"#$%&\\'()*+,-./:;<=>?@[\\\\]^_`{|}~'"
   ]
  },
  {
   "cell_type": "code",
   "execution_count": 1,
   "metadata": {},
   "outputs": [],
   "source": [
    "import string\n",
    "\n",
    "class TextContainer():\n",
    "    def __init__(self, text):\n",
    "            self.text = text\n",
    "            \n",
    "    def __repr__(self):\n",
    "        return 'TextContainer(%r)' % (self.text)\n",
    "    \n",
    "    def __str__(self):\n",
    "        return '{text}'.format(text=self.text)\n",
    "    \n",
    "    def word_count(self):\n",
    "        return len(self.text.split(' '))\n",
    "    \n",
    "    def char_count(self):\n",
    "        return len(self.text)\n",
    "        \n",
    "    def letter_count(self):\n",
    "        count = 0\n",
    "        for char in self.text:\n",
    "            if(char in string.ascii_letters):\n",
    "                count += 1\n",
    "        return count\n",
    "        \n",
    "    def remove_punctuations(self):\n",
    "        return self.text.translate(str.maketrans('', '', string.punctuation))"
   ]
  },
  {
   "cell_type": "code",
   "execution_count": 2,
   "metadata": {},
   "outputs": [
    {
     "name": "stdout",
     "output_type": "stream",
     "text": [
      "Hello Everyone. Hope you Have a wonderful day. \n",
      "My name is Steve, and I'm 99 years old.\n",
      "\n",
      "Word count: expect 17\n",
      "17\n",
      "\n",
      "Character count: expect 87/88 (depends on whether \\n counts as 1 or 2 chars)\n",
      "87\n",
      "\n",
      "Letter count: expect 63\n",
      "63\n",
      "\n",
      "Text without punctuations\n",
      "Hello Everyone Hope you Have a wonderful day \n",
      "My name is Steve and Im 99 years old\n",
      "\n"
     ]
    }
   ],
   "source": [
    "tc = TextContainer(\"Hello Everyone. Hope you Have a wonderful day. \\nMy name is Steve, and I'm 99 years old.\")\n",
    "print(tc)\n",
    "print()\n",
    "\n",
    "print('Word count: expect 17')\n",
    "print(tc.word_count())\n",
    "print()\n",
    "\n",
    "print('Character count: expect 87/88 (depends on whether \\\\n counts as 1 or 2 chars)')\n",
    "print(tc.char_count())\n",
    "print()\n",
    "\n",
    "print('Letter count: expect 63')\n",
    "print(tc.letter_count())\n",
    "print()\n",
    "\n",
    "print('Text without punctuations')\n",
    "print(tc.remove_punctuations())\n",
    "print()"
   ]
  },
  {
   "cell_type": "markdown",
   "metadata": {},
   "source": [
    "## 3.3\n",
    "\n",
    "with the following dataset:\n",
    "\n",
    "    student_attendance = {'day1':33, 'day2':34,'day3':29,'day4':31,'day5':28,'day6':26,'day7':30}\n",
    "\n",
    "   - create a line graph showing attendance over time. hint: use keys() and values() method of the dictionary.\n",
    "   - add title and labels for x and y axis.\n"
   ]
  },
  {
   "cell_type": "code",
   "execution_count": 5,
   "metadata": {},
   "outputs": [
    {
     "data": {
      "image/png": "[encoded data removed]",
      "text/plain": [
       "<Figure size 432x288 with 1 Axes>"
      ]
     },
     "metadata": {
      "needs_background": "light"
     },
     "output_type": "display_data"
    }
   ],
   "source": [
    "import matplotlib.pyplot as plt\n",
    "\n",
    "student_attendance = {'day1':33, 'day2':34,'day3':29,'day4':31,'day5':28,'day6':26,'day7':30}\n",
    "sa_keys = list(student_attendance.keys())\n",
    "sa_values = list(student_attendance.values())\n",
    "\n",
    "plt.title(\"Student Attendance\", fontsize=24)\n",
    "plt.xlabel(\"Dates\", fontsize=14)\n",
    "plt.ylabel(\"student numbers\", fontsize=14)\n",
    "\n",
    "plt.plot(sa_keys, sa_values)\n",
    "plt.show();"
   ]
  },
  {
   "cell_type": "code",
   "execution_count": null,
   "metadata": {},
   "outputs": [],
   "source": []
  }
 ],
 "metadata": {
  "kernelspec": {
   "display_name": "Python 3",
   "language": "python",
   "name": "python3"
  },
  "language_info": {
   "codemirror_mode": {
    "name": "ipython",
    "version": 3
   },
   "file_extension": ".py",
   "mimetype": "text/x-python",
   "name": "python",
   "nbconvert_exporter": "python",
   "pygments_lexer": "ipython3",
   "version": "3.7.6"
  }
 },
 "nbformat": 4,
 "nbformat_minor": 4
}
