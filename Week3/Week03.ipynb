{
 "cells": [
  {
   "cell_type": "markdown",
   "metadata": {},
   "source": [
    "## Exercise 1, Classes\n",
    "\n",
    "1. Create 3 classes: Student, DataSheet and Course\n",
    "2. A student has a data_sheet and a data_sheet has multiple courses in particular order\n",
    "3. Each course has name, classroom, teacher, ETCS and optional grade if course is taken.\n",
    "4. In Student create __init__() so that a Student can be initiated with name, gender, data_sheet and image_url\n",
    "5. In DataSheet create a method to get_grades_as_list()\n",
    "6. In student create a method: get_avg_grade()"
   ]
  },
  {
   "cell_type": "markdown",
   "metadata": {},
   "source": [
    "9. Make a method on Student class that can show progression of the study in % (add up ECTS from all passed courses divided by total of 150 total points (equivalent to 5 semesters))"
   ]
  },
  {
   "cell_type": "code",
   "execution_count": 2,
   "metadata": {},
   "outputs": [],
   "source": [
    "class Student():\n",
    "    \n",
    "    def __init__(self, student_id, name, gender, data_sheet, image_url):\n",
    "        self.student_id = student_id\n",
    "        self.name = name\n",
    "        self.gender = gender\n",
    "        self.data_sheet = data_sheet\n",
    "        self.image_url = image_url\n",
    "        \n",
    "    def __str__(self):\n",
    "        return 'Student {s_id}: {name}, {gender}, {image_url}'.format(s_id=self.student_id, name=self.name, gender=self.gender, image_url=self.image_url)\n",
    "        \n",
    "    def get_avg_grade(self):\n",
    "        grade_list = self.data_sheet.get_grades_as_list()\n",
    "        if len(grade_list) == 0:\n",
    "            return 0\n",
    "        avg_grade = 0\n",
    "        for grade in grade_list:\n",
    "            avg_grade += grade\n",
    "        return round(avg_grade/len(grade_list),2)\n",
    "    \n",
    "    def show_progression(self):\n",
    "        ETCS_needed = 150\n",
    "        ETCS_completed = 0\n",
    "        for course in self.data_sheet.courses:\n",
    "            if self.student_id in course.grades:\n",
    "                if course.grades[self.student_id] >= 2:\n",
    "                    ETCS_completed += course.ETCS\n",
    "        completed_per = ETCS_completed / ETCS_needed\n",
    "        return round(completed_per*100, 2)\n",
    "    \n",
    "    #Exercise 3.2A\n",
    "    def get_list_of_courses(self):\n",
    "        return self.data_sheet.courses"
   ]
  },
  {
   "cell_type": "code",
   "execution_count": 3,
   "metadata": {},
   "outputs": [],
   "source": [
    "class DataSheet():\n",
    "    \n",
    "    def __init__(self, student_id, courses):\n",
    "        self.student_id = student_id\n",
    "        self.courses = courses\n",
    "        \n",
    "    def get_grades_as_list(self):\n",
    "        result = []\n",
    "        for course in self.courses:\n",
    "            if self.student_id in course.grades:\n",
    "                result.append(course.grades[self.student_id])\n",
    "        return result"
   ]
  },
  {
   "cell_type": "code",
   "execution_count": 4,
   "metadata": {},
   "outputs": [],
   "source": [
    "class Course():\n",
    "    \n",
    "    def __init__(self, name, classroom, teacher, ETCS, grades):\n",
    "        self.name = name\n",
    "        self.classroom = classroom\n",
    "        self.teacher = teacher\n",
    "        self.ETCS = ETCS\n",
    "        self.grades = grades"
   ]
  },
  {
   "cell_type": "markdown",
   "metadata": {},
   "source": [
    "7. Create a function that can generate n number of students with random: name, gender, courses (from a fixed list of course names), grades, img_url\n",
    "   1. Let the function write the result to a csv file with format stud_name, course_name, teacher, ects, classroom, grade, img_url"
   ]
  },
  {
   "cell_type": "code",
   "execution_count": 5,
   "metadata": {},
   "outputs": [],
   "source": [
    "import random as r\n",
    "import csv\n",
    "import platform\n",
    "if platform.system() == 'Windows':\n",
    "    newline=''\n",
    "else:\n",
    "    newline=None\n",
    "\n",
    "names = (\"Alex\",\"Jordan\",\"Kim\",\"Charlie\",\"Robin\",\"Jules\",\"Ryley\",\"Ridley\",\"Frankie\",\"Hunter\")\n",
    "surnames = (\"Brown\",\"Grey\",\"Black\",\"Stone\",\"Wood\",\"Baker\",\"Smith\",\"Bond\",\"Carter\",\"Parker\")\n",
    "genders = (\"Male\",\"Female\")\n",
    "grades = (-3,0,2,4,7,10,12)\n",
    "\n",
    "def create_random_student(number_of_students):\n",
    "    course_math = Course(\"Math\", \"101\", \"Peter\", 20, {})\n",
    "    course_programming = Course(\"Programming\", \"102\", \"Peter\", 10, {})\n",
    "    course_graphics = Course(\"Graphics\", \"103\", \"Oliver\", 15, {})\n",
    "    course_security = Course(\"Security\", \"104\", \"Mads\", 30, {})\n",
    "    course_gaming = Course(\"Gaming\", \"105\", \"Jennifer\", 40, {})\n",
    "    courses = (course_math, course_programming, course_graphics, course_security, course_gaming)\n",
    "    \n",
    "    student_list = []\n",
    "    for student_id in range(1,number_of_students+1):\n",
    "        name = names[r.randint(1,len(names))-1] + \" \" + surnames[r.randint(1,len(surnames))-1]\n",
    "        image_url = name.replace(\" \", \"\") + \".img\"\n",
    "        gender = genders[r.randint(1,len(genders))-1]\n",
    "        student_courses = []\n",
    "        for course in courses:\n",
    "            if r.randint(1,2) == 1:\n",
    "                student_courses.append(course)\n",
    "                if r.randint(1,2) == 1:\n",
    "                    course.grades[student_id] = grades[r.randint(1,len(grades))-1]\n",
    "        data_sheet = DataSheet(student_id, student_courses)\n",
    "        new_student = Student(student_id, name, gender, data_sheet, image_url)\n",
    "        student_list.append(new_student)\n",
    "    \n",
    "    # return student_list\n",
    "    with open(\"randomStudents.csv\", 'w', newline=newline) as output_file:\n",
    "        output_writer = csv.writer(output_file)\n",
    "\n",
    "        for s in student_list:\n",
    "            s_courses = []\n",
    "            s_grades = []\n",
    "            for course in s.data_sheet.courses:\n",
    "                s_courses.append([course.name, course.classroom, course.teacher, course.ETCS])\n",
    "                if s.student_id in course.grades:\n",
    "                    s_grades.append(course.grades[s.student_id])\n",
    "                else:\n",
    "                    s_grades.append(\"No Grade\")\n",
    "            output_writer.writerow([s.student_id, s.name, s.gender, s_courses, s_grades, s.image_url])"
   ]
  },
  {
   "cell_type": "code",
   "execution_count": 13,
   "metadata": {},
   "outputs": [],
   "source": [
    "# Tester\n",
    "\n",
    "def test_student_creation():\n",
    "    random_students = create_random_student(20)\n",
    "    for student in random_students:\n",
    "        print(student)\n",
    "        print(\"Num of Courses: \" + str(len(student.data_sheet.courses)))\n",
    "        print(\"Avg Grade: \" + str(student.get_avg_grade()))\n",
    "        print()\n",
    "\n",
    "create_random_student(15)\n",
    "#test_student_creation()"
   ]
  },
  {
   "cell_type": "markdown",
   "metadata": {},
   "source": [
    "8. Read student data into a list of Students from a csv file: \n",
    "   1. loop through the list and print each student with name, img_url and avg_grade.\n",
    "   2. sort the list by avg_grade\n",
    "   3. create a bar chart with student_name on x and avg_grade on y-axis"
   ]
  },
  {
   "cell_type": "code",
   "execution_count": 14,
   "metadata": {},
   "outputs": [],
   "source": [
    "import ast\n",
    "\n",
    "student_list = []\n",
    "course_list = []\n",
    "\n",
    "with open(\"randomStudents.csv\") as f:\n",
    "    reader = csv.reader(f)\n",
    "    \n",
    "    for row in reader:\n",
    "        s_id = row[0]\n",
    "        s_name = row[1]\n",
    "        s_gender = row[2]\n",
    "        s_courses_info = ast.literal_eval(row[3])\n",
    "        s_grades = ast.literal_eval(row[4])\n",
    "        s_image_url = row[5]\n",
    "        s_courses = []\n",
    "        \n",
    "        for next_course in s_courses_info:\n",
    "            course_index = s_courses_info.index(next_course)\n",
    "            new_course = None\n",
    "            for course in course_list:\n",
    "                if next_course[0] == course.name:\n",
    "                    new_course = course\n",
    "                    break\n",
    "            if new_course == None:\n",
    "                new_course = Course(next_course[0], next_course[1], next_course[2], next_course[3], {})\n",
    "                course_list.append(new_course)\n",
    "            s_courses.append(new_course)\n",
    "            if not isinstance(s_grades[course_index], str):\n",
    "                new_course.grades[s_id] = s_grades[course_index]\n",
    "                \n",
    "        s_data_sheet = DataSheet(s_id, s_courses)\n",
    "        new_student = Student(s_id, s_name, s_gender, s_data_sheet, s_image_url)\n",
    "        student_list.append(new_student)"
   ]
  },
  {
   "cell_type": "code",
   "execution_count": 15,
   "metadata": {},
   "outputs": [
    {
     "name": "stdout",
     "output_type": "stream",
     "text": [
      "Student 8: Ridley Smith Baker, Male, RidleySmithBaker.img\n",
      "Amount of Courses: 3\n",
      "Avarage Grade: 12.0\n",
      "\n",
      "Student 2: Charlie Parker Carter, Male, CharlieParkerCarter.img\n",
      "Amount of Courses: 3\n",
      "Avarage Grade: 11.0\n",
      "\n",
      "Student 4: Ridley Wood Carter, Female, RidleyWoodCarter.img\n",
      "Amount of Courses: 4\n",
      "Avarage Grade: 6.0\n",
      "\n",
      "Student 5: Kim Wood Smith, Male, KimWoodSmith.img\n",
      "Amount of Courses: 4\n",
      "Avarage Grade: 5.33\n",
      "\n",
      "Student 1: Charlie Wood Baker, Male, CharlieWoodBaker.img\n",
      "Amount of Courses: 1\n",
      "Avarage Grade: 4.0\n",
      "\n",
      "Student 10: Kim Wood Wood, Female, KimWoodWood.img\n",
      "Amount of Courses: 2\n",
      "Avarage Grade: 4.0\n",
      "\n",
      "Student 15: Jordan Parker Brown, Female, JordanParkerBrown.img\n",
      "Amount of Courses: 3\n",
      "Avarage Grade: 3.75\n",
      "\n",
      "Student 11: Ridley Smith Smith, Male, RidleySmithSmith.img\n",
      "Amount of Courses: 2\n",
      "Avarage Grade: 3.25\n",
      "\n",
      "Student 3: Charlie Parker Carter, Male, CharlieParkerCarter.img\n",
      "Amount of Courses: 3\n",
      "Avarage Grade: 0.0\n",
      "\n",
      "Student 6: Ryley Parker Carter, Male, RyleyParkerCarter.img\n",
      "Amount of Courses: 1\n",
      "Avarage Grade: 0.0\n",
      "\n",
      "Student 7: Jordan Bond Black, Male, JordanBondBlack.img\n",
      "Amount of Courses: 2\n",
      "Avarage Grade: 0\n",
      "\n",
      "Student 9: Hunter Bond Grey, Female, HunterBondGrey.img\n",
      "Amount of Courses: 2\n",
      "Avarage Grade: 0.0\n",
      "\n",
      "Student 13: Alex Brown Brown, Female, AlexBrownBrown.img\n",
      "Amount of Courses: 1\n",
      "Avarage Grade: 0\n",
      "\n",
      "Student 14: Charlie Carter Baker, Male, CharlieCarterBaker.img\n",
      "Amount of Courses: 0\n",
      "Avarage Grade: 0\n",
      "\n",
      "Student 12: Jordan Bond Black, Male, JordanBondBlack.img\n",
      "Amount of Courses: 3\n",
      "Avarage Grade: -0.25\n",
      "\n"
     ]
    },
    {
     "data": {
      "image/png": "[encoded data removed]",
      "text/plain": [
       "<Figure size 432x288 with 1 Axes>"
      ]
     },
     "metadata": {
      "needs_background": "light"
     },
     "output_type": "display_data"
    }
   ],
   "source": [
    "import matplotlib.pyplot as plt\n",
    "\n",
    "# B Sort by\n",
    "def student_sort(s):\n",
    "    grade = s.get_avg_grade()\n",
    "    if not isinstance(grade, str):\n",
    "        return grade\n",
    "    else:\n",
    "        return -5\n",
    "\n",
    "student_list.sort(reverse=True, key=student_sort)\n",
    "    \n",
    "# A Print out\n",
    "for student in student_list:\n",
    "    print(student)\n",
    "    print('Amount of Courses: ' + str(len(student.data_sheet.courses)))\n",
    "    print('Avarage Grade: ' + str(student.get_avg_grade()))\n",
    "    print()\n",
    "    \n",
    "# C bar chart\n",
    "names = []\n",
    "grades = [] \n",
    "for student in student_list:\n",
    "    names.append(student.name)\n",
    "    grades.append(student_sort(student))    \n",
    "\n",
    "    \n",
    "plt.bar(names, grades)\n",
    "plt.xlabel(\"Student Names\")\n",
    "plt.ylabel(\"Avarage Grades\")\n",
    "plt.title(\"Student Grades\")\n",
    "\n",
    "plt.show()"
   ]
  },
  {
   "cell_type": "markdown",
   "metadata": {},
   "source": [
    "10. Show a bar chart of distribution of study progression on x-axis and number of students in each category on y-axis. (e.g. make 10 categories from 0-100%)\n",
    "\n",
    "Extra: Make the Datasheet class iterable so that next(data_sheet) will return the next course in the list"
   ]
  },
  {
   "cell_type": "code",
   "execution_count": 16,
   "metadata": {},
   "outputs": [
    {
     "data": {
      "image/png": "[encoded data removed]",
      "text/plain": [
       "<Figure size 432x288 with 1 Axes>"
      ]
     },
     "metadata": {
      "needs_background": "light"
     },
     "output_type": "display_data"
    }
   ],
   "source": [
    "import matplotlib.pyplot as plt\n",
    "\n",
    "def progress_sort(s):\n",
    "    return s.show_progression()\n",
    "\n",
    "student_list.sort(key=progress_sort)\n",
    "\n",
    "progression = {}\n",
    "category_steps = [100, 90, 80, 70, 60, 50, 40, 30, 20, 10, 0]\n",
    "for student in student_list:\n",
    "    s_progress = student.show_progression()\n",
    "    for category in category_steps:\n",
    "        if s_progress >= category:\n",
    "            c_progress = str(category) + \"%\"\n",
    "            if not c_progress in progression:\n",
    "                progression[c_progress] = 1\n",
    "            else:\n",
    "                progression[c_progress] = progression[c_progress] + 1\n",
    "            break\n",
    "                   \n",
    "progress = list(progression.keys())\n",
    "amount_of_students = list(progression.values())\n",
    "\n",
    "plt.bar(progress, amount_of_students)\n",
    "plt.xlabel(\"Study Progression Procentage\")\n",
    "plt.ylabel(\"Student Amount\")\n",
    "plt.title(\"Student Progressions\")\n",
    "\n",
    "plt.show()"
   ]
  },
  {
   "cell_type": "markdown",
   "metadata": {},
   "source": [
    "## Exercise 2, Exceptions\n",
    "\n",
    "1. Create a function that can take a list of students and return the 3 students closest to completing their study.\n",
    "2. If list is shorter than 3 raise your own custom exception (NotEnoughStudentsException)\n",
    "3. Create another function that can create a csv file with 3 students closest to completion\n",
    "   1. If an exception is raised write an appropriate message to the file"
   ]
  },
  {
   "cell_type": "code",
   "execution_count": 17,
   "metadata": {},
   "outputs": [],
   "source": [
    "class NotEnoughStudentsException(Exception):\n",
    "    pass\n",
    "\n",
    "def progress_sort(s):\n",
    "    return s.show_progression()\n",
    "\n",
    "def three_closest_students(s_list):\n",
    "    try:\n",
    "        if len(s_list) < 3:\n",
    "            raise NotEnoughStudentsException()\n",
    "        s_list.sort(key=progress_sort)\n",
    "        return list([s_list[0], s_list[1], s_list[2]])\n",
    "    except NotEnoughStudentsException:\n",
    "        print('ERROR: Not enough students in list!')\n",
    "        \n",
    "def three_closest_students_too_file(s_list):\n",
    "    \n",
    "    with open(\"topThreeStudents.csv\", 'w', newline=newline) as output_file:\n",
    "        output_writer = csv.writer(output_file)\n",
    "        try:\n",
    "            if len(s_list) < 3:\n",
    "                raise NotEnoughStudentsException()\n",
    "            s_list.sort(key=progress_sort)\n",
    "            for s in s_list:\n",
    "                s_courses = []\n",
    "                s_grades = []\n",
    "                for course in s.data_sheet.courses:\n",
    "                    s_courses.append([course.name, course.classroom, course.teacher, course.ETCS])\n",
    "                    if s.student_id in course.grades:\n",
    "                        s_grades.append(course.grades[s.student_id])\n",
    "                    else:\n",
    "                        s_grades.append(\"No Grade\")\n",
    "                output_writer.writerow([s.student_id, s.name, s.gender, s_courses, s_grades, s.image_url])\n",
    "                if s_list.index(s) == 2:\n",
    "                    break\n",
    "                    \n",
    "        except NotEnoughStudentsException:\n",
    "            output_writer.writerow(['ERROR: Not enough students in list!'])\n",
    "\n",
    "#three_closest_students([])\n",
    "#three_closest_students_too_file([])\n",
    "three_closest_students_too_file(student_list)"
   ]
  },
  {
   "cell_type": "markdown",
   "metadata": {},
   "source": [
    "## Exercise 3, Plotting\n",
    "\n",
    "1. Create a function that can take a list of students and show a pie chart of how students are distributed in ECTS percentage categories (10%, 20%, ...)"
   ]
  },
  {
   "cell_type": "code",
   "execution_count": 10,
   "metadata": {},
   "outputs": [
    {
     "name": "stdout",
     "output_type": "stream",
     "text": [
      "['0% completed ETCS', '10% completed ETCS', '20% completed ETCS', '50% completed ETCS']\n",
      "[5, 1, 3, 1]\n"
     ]
    },
    {
     "data": {
      "image/png": "[encoded data removed]",
      "text/plain": [
       "<Figure size 432x288 with 1 Axes>"
      ]
     },
     "metadata": {},
     "output_type": "display_data"
    }
   ],
   "source": [
    "import matplotlib.pyplot as plt\n",
    "\n",
    "# 1\n",
    "\n",
    "def pie_chart_from_ECTS(s_list):\n",
    "    progression = {}\n",
    "    category_steps = [100, 90, 80, 70, 60, 50, 40, 30, 20, 10, 0]\n",
    "    for student in s_list:\n",
    "        s_progress = student.show_progression()\n",
    "        for category in category_steps:\n",
    "            if s_progress >= category:\n",
    "                c_progress = str(category) + \"% completed ETCS\"\n",
    "                if not c_progress in progression:\n",
    "                    progression[c_progress] = 1\n",
    "                else:\n",
    "                    progression[c_progress] = progression[c_progress] + 1\n",
    "                break\n",
    "    \n",
    "    x_values = list(progression.keys())\n",
    "    y_values = list(progression.values())\n",
    "    \n",
    "    print(x_values)\n",
    "    print(y_values)\n",
    "    \n",
    "    fig1, ax1 = plt.subplots()\n",
    "    ax1.pie(y_values, labels=x_values, autopct='%1.1f%%', shadow=True, startangle=90)\n",
    "    ax1.axis('equal')\n",
    "\n",
    "    plt.show()\n",
    "            \n",
    "pie_chart_from_ECTS(student_list)"
   ]
  },
  {
   "cell_type": "markdown",
   "metadata": {},
   "source": [
    "2. create a function that can take a list of students and show how many students have taken each course (bar chart)\n",
    "   1. create a method on student that can return a list of courses\n",
    "3. make the figure show males and females in different colors for each course (display 2 datasets in same figure)"
   ]
  },
  {
   "cell_type": "code",
   "execution_count": 29,
   "metadata": {},
   "outputs": [
    {
     "name": "stdout",
     "output_type": "stream",
     "text": [
      "Males: {'Programming': 4, 'Graphics': 3, 'Gaming': 3, 'Math': 1, 'Security': 4}\n",
      "Females: {'Programming': 3, 'Graphics': 1, 'Gaming': 1, 'Math': 1, 'Security': 1}\n"
     ]
    },
    {
     "data": {
      "image/png": "[encoded data removed]",
      "text/plain": [
       "<Figure size 432x288 with 1 Axes>"
      ]
     },
     "metadata": {
      "needs_background": "light"
     },
     "output_type": "display_data"
    }
   ],
   "source": [
    "import matplotlib.pyplot as plt\n",
    "import numpy as np\n",
    "\n",
    "# 2\n",
    "\n",
    "def bar_chart_student_courses(s_list):\n",
    "    men_c_list = {}\n",
    "    woman_c_list = {}\n",
    "    for s in s_list:\n",
    "        s_courses = s.get_list_of_courses()\n",
    "        if s.gender == \"Male\":\n",
    "            for c in s_courses:\n",
    "                if not c.name in men_c_list:\n",
    "                    men_c_list[c.name] = 1\n",
    "                    woman_c_list[c.name] = 0\n",
    "                else:\n",
    "                    men_c_list[c.name] = men_c_list[c.name] + 1\n",
    "        else:\n",
    "            for c in s_courses:\n",
    "                if not c.name in woman_c_list:\n",
    "                    woman_c_list[c.name] = 1\n",
    "                    men_c_list[c.name] = 0\n",
    "                else:\n",
    "                    woman_c_list[c.name] = woman_c_list[c.name] + 1\n",
    "    print(\"Males: \" + str(men_c_list))\n",
    "    print(\"Females: \" + str(woman_c_list))\n",
    "    \n",
    "    men_x_values = list(men_c_list.keys())\n",
    "    men_y_values = list(men_c_list.values())\n",
    "    woman_x_values = list(woman_c_list.keys())\n",
    "    woman_y_values = list(woman_c_list.values())\n",
    "    \n",
    "    num_courses = len(men_x_values)\n",
    "    \n",
    "    ind = np.arange(num_courses)\n",
    "    width = 0.35  \n",
    "    \n",
    "    plt.bar(ind, men_y_values, width, color='red', label='Men')\n",
    "    plt.bar(ind + width, woman_y_values, width, color='blue', label='Women')\n",
    "    plt.ylabel(\"Student Attendance\")\n",
    "    plt.title(\"Course Attendance\")\n",
    "\n",
    "    plt.show()\n",
    "\n",
    "bar_chart_student_courses(student_list)"
   ]
  }
 ],
 "metadata": {
  "kernelspec": {
   "display_name": "Python 3",
   "language": "python",
   "name": "python3"
  },
  "language_info": {
   "codemirror_mode": {
    "name": "ipython",
    "version": 3
   },
   "file_extension": ".py",
   "mimetype": "text/x-python",
   "name": "python",
   "nbconvert_exporter": "python",
   "pygments_lexer": "ipython3",
   "version": "3.7.6"
  }
 },
 "nbformat": 4,
 "nbformat_minor": 4
}
