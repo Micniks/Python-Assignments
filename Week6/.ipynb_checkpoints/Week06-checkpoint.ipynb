{
 "cells": [
  {
   "cell_type": "markdown",
   "metadata": {},
   "source": [
    "### Ex 1\n",
    "Create a module containing a class with the following methods:\n",
    "1. __init__(self, url_list)\n",
    "2. download(url,filename) raises NotFoundException when url returns 404\n",
    "3. multi_download() uses threads to download multiple urls as text and stores filenames as a property\n",
    "4. __iter__() returns an iterator\n",
    "5. __next__() returns the next filename (and stops when there are no more)\n",
    "6. urllist_generator() returns a generator to loop through the urls\n",
    "7. avg_vowels(text) - a rough estimate on readability returns average number of vowels in the words of the text\n",
    "8. hardest_read() returns the filename of the text with the highest vowel score (use all the cpu cores on the computer for this work."
   ]
  },
  {
   "cell_type": "code",
   "execution_count": 2,
   "metadata": {},
   "outputs": [
    {
     "name": "stdout",
     "output_type": "stream",
     "text": [
      " https://api.chucknorris.io/jokes/IHKf0vBNQhabsWnIRaZPdQ\n",
      " https://api.chucknorris.io/jokes/AH6GX1FOQWKbnXH75Vn-4A\n",
      " https://api.chucknorris.io/jokes/ts2VbLrSR46ypk49NC-1LQ\n",
      " https://api.chucknorris.io/jokes/dfeXBQtOTV6Vn15_5y56Ag\n",
      " https://api.chucknorris.io/jokes/lSygvqaIRfK6ZbrQz4FosA\n",
      " https://api.chucknorris.io/jokes/2dIYlHo7QNWSA1KMo3mMHQ\n"
     ]
    }
   ],
   "source": [
    "import requests\n",
    "import os\n",
    "import glob\n",
    "\n",
    "if os.path.exists('downloads'):\n",
    "    files = glob.glob('./downloads/*')\n",
    "    for f in files:\n",
    "        os.remove(f) \n",
    "else:\n",
    "    os.makedirs('downloads')\n",
    "\n",
    "class Exe1:\n",
    "    def __init__(self, url_list):\n",
    "        self.url_list = url_list\n",
    "        self.filenames = list()\n",
    "    \n",
    "    def download(self, url, filename):\n",
    "        r = requests.get(url)\n",
    "        if(r.status_code == 404):\n",
    "            raise Exception('URL ' + url + \" NOT FOUND\")\n",
    "        #print('',r.json()['url'])\n",
    "        open('./downloads/' + filename + \".txt\", 'wb').write(r.content)\n",
    "        \n",
    "    def multi_download(self):\n",
    "        for idx in range(0,len(self.url_list)):\n",
    "            try:\n",
    "                filename = 'download_number_' + str(idx+1)\n",
    "                self.download(self.url_list[idx], filename)\n",
    "                self.filenames.append(filename)\n",
    "            except:\n",
    "                print('Could not download nr: ' + str(idx+1) + ', from URL: ' + self.url_list[idx])\n",
    "        \n",
    "    def __iter__(self):\n",
    "        self.iter_count = \n",
    "        return self\n",
    "        \n",
    "    def __next__(self):\n",
    "        print('To be done...')\n",
    "        \n",
    "    def urllist_generator(self):\n",
    "        print('To be done...')\n",
    "        \n",
    "    def avg_vowels(self, text):\n",
    "        print('To be done...')\n",
    "        \n",
    "    def hardest_read(self):\n",
    "        print('To be done...')\n",
    "    \n",
    "test = Exe1(['https://api.chucknorris.io/jokes/AH6GX1FOQWKbnXH75Vn-4A', \n",
    "             'https://api.chucknorris.io/jokes/ts2VbLrSR46ypk49NC-1LQ', \n",
    "             'https://api.chucknorris.io/jokes/dfeXBQtOTV6Vn15_5y56Ag',\n",
    "             'https://api.chucknorris.io/jokes/lSygvqaIRfK6ZbrQz4FosA',\n",
    "             'https://api.chucknorris.io/jokes/2dIYlHo7QNWSA1KMo3mMHQ'])\n",
    "#test.download('https://httpbin.org/status/404', 'x')\n",
    "test.download('https://api.chucknorris.io/jokes/random', 'x')\n",
    "test.multi_download()"
   ]
  },
  {
   "cell_type": "markdown",
   "metadata": {},
   "source": [
    "### Ex 2\n",
    "Create a notebook and import your module from above\n",
    "1. Find 10 books on https://www.gutenberg.org/browse/scores/top and download them using an object of the class you just created before\n",
    "2. Test the different methods of your class\n",
    "3. Make a bar plot with a sorted list of books on x-axis and avg vowels on y-axis"
   ]
  },
  {
   "cell_type": "code",
   "execution_count": null,
   "metadata": {},
   "outputs": [],
   "source": []
  },
  {
   "cell_type": "code",
   "execution_count": 5,
   "metadata": {},
   "outputs": [
    {
     "name": "stdout",
     "output_type": "stream",
     "text": [
      "['/home/jovyan/my_notebooks/Assignments/Week6', '/opt/conda/lib/python37.zip', '/opt/conda/lib/python3.7', '/opt/conda/lib/python3.7/lib-dynload', '', '/opt/conda/lib/python3.7/site-packages', '/opt/conda/lib/python3.7/site-packages/IPython/extensions', '/home/jovyan/.ipython']\n"
     ]
    }
   ],
   "source": [
    "import sys\n",
    "sys.path.append(\"../../..\")\n",
    "from modules import webget\n",
    "sys.path.pop()\n",
    "print(sys.path)"
   ]
  },
  {
   "cell_type": "code",
   "execution_count": null,
   "metadata": {},
   "outputs": [],
   "source": []
  }
 ],
 "metadata": {
  "kernelspec": {
   "display_name": "Python 3",
   "language": "python",
   "name": "python3"
  },
  "language_info": {
   "codemirror_mode": {
    "name": "ipython",
    "version": 3
   },
   "file_extension": ".py",
   "mimetype": "text/x-python",
   "name": "python",
   "nbconvert_exporter": "python",
   "pygments_lexer": "ipython3",
   "version": "3.7.6"
  }
 },
 "nbformat": 4,
 "nbformat_minor": 4
}
