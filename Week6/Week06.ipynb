{
 "cells": [
  {
   "cell_type": "markdown",
   "metadata": {},
   "source": [
    "### Ex 1\n",
    "Create a module containing a class with the following methods:\n",
    "1. __init__(self, url_list)\n",
    "2. download(url,filename) raises NotFoundException when url returns 404\n",
    "3. multi_download() uses threads to download multiple urls as text and stores filenames as a property\n",
    "4. __iter__() returns an iterator\n",
    "5. __next__() returns the next filename (and stops when there are no more)\n",
    "6. urllist_generator() returns a generator to loop through the urls\n",
    "7. avg_vowels(text) - a rough estimate on readability returns average number of vowels in the words of the text\n",
    "8. hardest_read() returns the filename of the text with the highest vowel score (use all the cpu cores on the computer for this work."
   ]
  },
  {
   "cell_type": "code",
   "execution_count": 1,
   "metadata": {},
   "outputs": [],
   "source": [
    "from concurrent.futures import ThreadPoolExecutor\n",
    "from concurrent.futures import ProcessPoolExecutor\n",
    "import multiprocessing\n",
    "import requests\n",
    "import os\n",
    "import glob\n",
    "\n",
    "if os.path.exists('downloads'):\n",
    "    files = glob.glob('./downloads/*')\n",
    "    for f in files:\n",
    "        os.remove(f) \n",
    "else:\n",
    "    os.makedirs('downloads')\n",
    "    \n",
    "def multithreading(func, args, workers=5):\n",
    "    with ThreadPoolExecutor(workers) as ex:\n",
    "        ex.map(func, args)\n",
    "        \n",
    "def multiprocessing(func, args, workers=multiprocessing.cpu_count()):\n",
    "    with ProcessPoolExecutor(workers) as ex:\n",
    "        res = ex.map(func, args)\n",
    "    return list(res)\n",
    "\n",
    "class Exe1:\n",
    "    def __init__(self, url_list):\n",
    "        self.url_list = url_list\n",
    "        self.filenames = list()\n",
    "    \n",
    "    def download(self, url, filename):\n",
    "        r = requests.get(url)\n",
    "        if(r.status_code == 404):\n",
    "            raise Exception('URL ' + url + \" NOT FOUND\")\n",
    "        #print('',r.json()['url'])\n",
    "        open('./downloads/' + filename + \".txt\", 'wb').write(r.content)\n",
    "        \n",
    "    def milti_download_func(self, idx):\n",
    "        try:\n",
    "            filename = 'download_number_' + str(idx+1)\n",
    "            self.download(self.url_list[idx], filename)\n",
    "            self.filenames.append(filename)\n",
    "        except:\n",
    "            print('Could not download nr: ' + str(idx+1) + ', from URL: ' + self.url_list[idx])\n",
    "        \n",
    "    def multi_download(self):\n",
    "        multithreading(self.milti_download_func, range(0,len(self.url_list)))\n",
    "        \n",
    "    def __iter__(self):\n",
    "        self.iter_count = 0;\n",
    "        return self\n",
    "        \n",
    "    def __next__(self):\n",
    "        if self.iter_count < len(self.filenames):\n",
    "            next = self.filenames[self.iter_count]\n",
    "            self.iter_count += 1\n",
    "            return next\n",
    "        else:\n",
    "            raise StopIteration\n",
    "        \n",
    "    def urllist_generator(self):\n",
    "        num = 0\n",
    "        while num < len(self.url_list):\n",
    "            yield self.url_list[num]\n",
    "            num += 1\n",
    "        \n",
    "    def avg_vowels(self, text):\n",
    "        vowels = ['a', 'e', 'i', 'o', 'u', 'y']\n",
    "        total_vowels_number = 0\n",
    "        all_words = str(text).split(' ')\n",
    "        for word in all_words:\n",
    "            for letter in word:\n",
    "                if str(letter).lower() in vowels:\n",
    "                    total_vowels_number += 1\n",
    "        avg_vowels_count = total_vowels_number/len(all_words)\n",
    "        return avg_vowels_count\n",
    "        \n",
    "    def read_file(self, filename):\n",
    "        filetext = open('./downloads/' + filename + '.txt', 'r').read()\n",
    "        text_avg_vowels = self.avg_vowels(filetext)\n",
    "        return filename, text_avg_vowels\n",
    "    \n",
    "    def hardest_read(self):\n",
    "        hardest_read = {'File': 'No files to read', 'Score': 0}\n",
    "        file_scores = multiprocessing(self.read_file, self.filenames)\n",
    "        print(file_scores)\n",
    "        for idx in range(0,len(file_scores)):\n",
    "            if hardest_read['Score'] < file_scores[idx][1]:\n",
    "                hardest_read['File'] = file_scores[idx][0]\n",
    "                hardest_read['Score'] = file_scores[idx][1]\n",
    "        return hardest_read['File'] + '.txt'\n",
    "    \n",
    "test = Exe1(['https://api.chucknorris.io/jokes/AH6GX1FOQWKbnXH75Vn-4A', \n",
    "             'https://api.chucknorris.io/jokes/ts2VbLrSR46ypk49NC-1LQ', \n",
    "             'https://api.chucknorris.io/jokes/dfeXBQtOTV6Vn15_5y56Ag',\n",
    "             'https://api.chucknorris.io/jokes/lSygvqaIRfK6ZbrQz4FosA',\n",
    "             'https://api.chucknorris.io/jokes/2dIYlHo7QNWSA1KMo3mMHQ'])\n",
    "#test.download('https://httpbin.org/status/404', 'x')\n",
    "#test.download('https://api.chucknorris.io/jokes/random', 'x')\n",
    "#test.multi_download()\n",
    "#test.avg_vowels('There is no way of knowing, if this will end well')\n",
    "#test.hardest_read()"
   ]
  },
  {
   "cell_type": "markdown",
   "metadata": {},
   "source": [
    "### Ex 2\n",
    "Create a notebook and import your module from above\n",
    "1. Find 10 books on https://www.gutenberg.org/browse/scores/top and download them using an object of the class you just created before\n",
    "2. Test the different methods of your class"
   ]
  },
  {
   "cell_type": "code",
   "execution_count": 2,
   "metadata": {},
   "outputs": [
    {
     "name": "stdout",
     "output_type": "stream",
     "text": [
      "[('download_number_2', 1.0573247506543113), ('download_number_4', 1.1633852483103144), ('download_number_6', 1.9178790429241312), ('download_number_5', 1.921684612239335), ('download_number_8', 1.8624352428161455), ('download_number_3', 1.8802345760277661), ('download_number_1', 1.2115146310709162), ('download_number_9', 1.8602308294209702), ('download_number_7', 1.8264384559359068), ('download_number_10', 2.0723771580345285)]\n"
     ]
    },
    {
     "data": {
      "text/plain": [
       "'download_number_10.txt'"
      ]
     },
     "execution_count": 2,
     "metadata": {},
     "output_type": "execute_result"
    }
   ],
   "source": [
    "book_url_list = ['https://www.gutenberg.org/files/1342/1342-0.txt',\n",
    "                'http://www.gutenberg.org/cache/epub/16328/pg16328.txt',\n",
    "                'https://www.gutenberg.org/files/25344/25344-0.txt',\n",
    "                'https://www.gutenberg.org/files/1250/1250-0.txt',\n",
    "                'https://www.gutenberg.org/files/84/84-0.txt',\n",
    "                'https://www.gutenberg.org/files/1952/1952-0.txt',\n",
    "                'https://www.gutenberg.org/files/11/11-0.txt',\n",
    "                'http://www.gutenberg.org/cache/epub/2542/pg2542.txt',\n",
    "                'http://www.gutenberg.org/cache/epub/23/pg23.txt',\n",
    "                'https://www.gutenberg.org/files/1080/1080-0.txt']\n",
    "\n",
    "classObject = Exe1(book_url_list)\n",
    "classObject.multi_download()\n",
    "classObject.hardest_read()"
   ]
  },
  {
   "cell_type": "markdown",
   "metadata": {},
   "source": [
    "3. Make a bar plot with a sorted list of books on x-axis and avg vowels on y-axis"
   ]
  },
  {
   "cell_type": "code",
   "execution_count": 3,
   "metadata": {},
   "outputs": [
    {
     "name": "stdout",
     "output_type": "stream",
     "text": [
      "['download_number_2', 'download_number_4', 'download_number_1', 'download_number_7', 'download_number_9', 'download_number_8', 'download_number_3', 'download_number_6', 'download_number_5', 'download_number_10']\n",
      "[1.0573247506543113, 1.1633852483103144, 1.2115146310709162, 1.8264384559359068, 1.8602308294209702, 1.8624352428161455, 1.8802345760277661, 1.9178790429241312, 1.921684612239335, 2.0723771580345285]\n"
     ]
    },
    {
     "data": {
      "image/png": "[encoded data removed]",
      "text/plain": [
       "<Figure size 432x288 with 1 Axes>"
      ]
     },
     "metadata": {
      "needs_background": "light"
     },
     "output_type": "display_data"
    }
   ],
   "source": [
    "import matplotlib.pyplot as plt\n",
    "\n",
    "all_files_list = list()\n",
    "for filename in classObject.filenames:\n",
    "    all_files_list.append(classObject.read_file(filename))\n",
    "all_files_list.sort(key=lambda x:x[1])\n",
    "\n",
    "x_values = []\n",
    "y_values = []\n",
    "for data in all_files_list:\n",
    "    x_values.append(data[0])\n",
    "    y_values.append(data[1])\n",
    "print(x_values)\n",
    "print(y_values)\n",
    "\n",
    "plt.bar(x_values, y_values)\n",
    "plt.xticks(rotation='vertical')\n",
    "plt.show()"
   ]
  },
  {
   "cell_type": "markdown",
   "metadata": {},
   "source": [
    "Note on how to import from a module above the current directory"
   ]
  },
  {
   "cell_type": "code",
   "execution_count": 4,
   "metadata": {},
   "outputs": [
    {
     "name": "stdout",
     "output_type": "stream",
     "text": [
      "['/home/jovyan/my_notebooks/Assignments/Week6', '/opt/conda/lib/python37.zip', '/opt/conda/lib/python3.7', '/opt/conda/lib/python3.7/lib-dynload', '', '/opt/conda/lib/python3.7/site-packages', '/opt/conda/lib/python3.7/site-packages/IPython/extensions', '/home/jovyan/.ipython']\n"
     ]
    }
   ],
   "source": [
    "import sys\n",
    "sys.path.append(\"../../..\")\n",
    "from modules import webget\n",
    "sys.path.pop()\n",
    "print(sys.path)"
   ]
  },
  {
   "cell_type": "markdown",
   "metadata": {},
   "source": [
    "Note on multiple arguments in multithread and processings"
   ]
  },
  {
   "cell_type": "code",
   "execution_count": 5,
   "metadata": {},
   "outputs": [
    {
     "name": "stdout",
     "output_type": "stream",
     "text": [
      "Hej\n",
      "x\n",
      "1\n",
      "-----Done-----\n",
      "Med\n",
      "y\n",
      "2\n",
      "-----Done-----\n",
      "Dig\n",
      "z\n",
      "3\n",
      "-----Done-----\n",
      "<zip object at 0x7f51de2dd5a0>\n",
      "<class 'zip'>\n"
     ]
    }
   ],
   "source": [
    "def testPrint(var1, var2, var3):\n",
    "    print(var1)\n",
    "    print(var2)\n",
    "    print(var3)\n",
    "    print('-----Done-----')    \n",
    "    \n",
    "def useTest():\n",
    "    var1 = list(['Hej', 'Med', 'Dig'])\n",
    "    var2 = list(['x', 'y', 'z'])\n",
    "    var3 = list(['1', '2', '3'])\n",
    "    args = [(var1[idx], var2[idx], var3[idx]) for idx in range(0,len(var1))]\n",
    "    args = zip(var1, var2, var3)\n",
    "    with ThreadPoolExecutor(5) as ex:\n",
    "        ex.map(lambda p: testPrint(*p), args)\n",
    "    \n",
    "useTest()\n",
    "var1 = list(['Hej', 'Med', 'Dig'])\n",
    "var2 = list(['x', 'y', 'z'])\n",
    "var3 = list(['1', '2', '3'])\n",
    "#args = [(var1[idx], var2[idx], var3[idx]) for idx in range(0,len(var1))]\n",
    "args = zip(var1, var2, var3)\n",
    "print(args)\n",
    "print(type(args))"
   ]
  },
  {
   "cell_type": "code",
   "execution_count": null,
   "metadata": {},
   "outputs": [],
   "source": []
  }
 ],
 "metadata": {
  "kernelspec": {
   "display_name": "Python 3",
   "language": "python",
   "name": "python3"
  },
  "language_info": {
   "codemirror_mode": {
    "name": "ipython",
    "version": 3
   },
   "file_extension": ".py",
   "mimetype": "text/x-python",
   "name": "python",
   "nbconvert_exporter": "python",
   "pygments_lexer": "ipython3",
   "version": "3.7.6"
  }
 },
 "nbformat": 4,
 "nbformat_minor": 4
}
